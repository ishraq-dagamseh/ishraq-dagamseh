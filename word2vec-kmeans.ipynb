{
 "cells": [
  {
   "cell_type": "code",
   "execution_count": 1,
   "id": "bcc91775",
   "metadata": {
    "execution": {
     "iopub.execute_input": "2023-02-05T17:50:22.296859Z",
     "iopub.status.busy": "2023-02-05T17:50:22.296134Z",
     "iopub.status.idle": "2023-02-05T17:50:24.428806Z",
     "shell.execute_reply": "2023-02-05T17:50:24.427647Z"
    },
    "papermill": {
     "duration": 2.149548,
     "end_time": "2023-02-05T17:50:24.432335",
     "exception": false,
     "start_time": "2023-02-05T17:50:22.282787",
     "status": "completed"
    },
    "tags": []
   },
   "outputs": [
    {
     "name": "stderr",
     "output_type": "stream",
     "text": [
      "[nltk_data] Downloading package stopwords to /usr/share/nltk_data...\n",
      "[nltk_data]   Package stopwords is already up-to-date!\n",
      "[nltk_data] Downloading package punkt to /usr/share/nltk_data...\n",
      "[nltk_data]   Package punkt is already up-to-date!\n"
     ]
    }
   ],
   "source": [
    "import os\n",
    "import random\n",
    "import re\n",
    "import string\n",
    "\n",
    "import nltk\n",
    "import numpy as np\n",
    "import pandas as pd\n",
    "\n",
    "from gensim.models import Word2Vec\n",
    "\n",
    "from nltk import word_tokenize\n",
    "from nltk.corpus import stopwords\n",
    "\n",
    "from sklearn.cluster import MiniBatchKMeans\n",
    "from sklearn.metrics import silhouette_samples, silhouette_score\n",
    "\n",
    "nltk.download(\"stopwords\")\n",
    "nltk.download(\"punkt\")\n",
    "\n",
    "SEED = 42\n",
    "random.seed(SEED)\n",
    "os.environ[\"PYTHONHASHSEED\"] = str(SEED)\n",
    "np.random.seed(SEED)"
   ]
  },
  {
   "cell_type": "code",
   "execution_count": 2,
   "id": "350ecaff",
   "metadata": {
    "execution": {
     "iopub.execute_input": "2023-02-05T17:50:24.454503Z",
     "iopub.status.busy": "2023-02-05T17:50:24.454092Z",
     "iopub.status.idle": "2023-02-05T17:50:24.463210Z",
     "shell.execute_reply": "2023-02-05T17:50:24.462343Z"
    },
    "papermill": {
     "duration": 0.022317,
     "end_time": "2023-02-05T17:50:24.465203",
     "exception": false,
     "start_time": "2023-02-05T17:50:24.442886",
     "status": "completed"
    },
    "tags": []
   },
   "outputs": [],
   "source": [
    "def clean_text(text, tokenizer, stopwords):\n",
    "    \"\"\"Pre-process text and generate tokens\n",
    "\n",
    "    Args:\n",
    "        text: Text to tokenize.\n",
    "\n",
    "    Returns:\n",
    "        Tokenized text.\n",
    "    \"\"\"\n",
    "    text = str(text).lower()  # Lowercase words\n",
    "    text = re.sub(r\"\\[(.*?)\\]\", \"\", text)  # Remove [+XYZ chars] in content\n",
    "    text = re.sub(r\"\\s+\", \" \", text)  # Remove multiple spaces in content\n",
    "    text = re.sub(r\"\\w+…|…\", \"\", text)  # Remove ellipsis (and last word)\n",
    "    text = re.sub(r\"(?<=\\w)-(?=\\w)\", \" \", text)  # Replace dash between words\n",
    "    text = re.sub(\n",
    "        f\"[{re.escape(string.punctuation)}]\", \"\", text\n",
    "    )  # Remove punctuation\n",
    "\n",
    "    tokens = tokenizer(text)  # Get tokens from text\n",
    "    tokens = [t for t in tokens if not t in stopwords]  # Remove stopwords\n",
    "    tokens = [\"\" if t.isdigit() else t for t in tokens]  # Remove digits\n",
    "    tokens = [t for t in tokens if len(t) > 1]  # Remove short tokens\n",
    "    return tokens\n"
   ]
  },
  {
   "cell_type": "markdown",
   "id": "87026cf7",
   "metadata": {
    "execution": {
     "iopub.execute_input": "2023-02-04T12:56:08.289316Z",
     "iopub.status.busy": "2023-02-04T12:56:08.288758Z",
     "iopub.status.idle": "2023-02-04T12:59:28.999631Z",
     "shell.execute_reply": "2023-02-04T12:59:28.998041Z",
     "shell.execute_reply.started": "2023-02-04T12:56:08.289276Z"
    },
    "papermill": {
     "duration": 0.009651,
     "end_time": "2023-02-05T17:50:24.484876",
     "exception": false,
     "start_time": "2023-02-05T17:50:24.475225",
     "status": "completed"
    },
    "tags": []
   },
   "source": [
    "custom_stopwords = set(stopwords.words(\"english\"))\n",
    "text_columns = [\"text\"]\n",
    "\n",
    "df_raw = pd.read_csv(\"/kaggle/input/TSABTAE/train1.csv\")\n",
    "df = df_raw.copy()\n",
    "#df[\"content\"] = df[\"content\"].fillna(\"\")\n",
    "\n",
    "for col in text_columns:\n",
    "    df[col] = df[col].astype(str)\n",
    "\n",
    "# Create text column based on title, description, and content\n",
    "df[\"text\"] = df[text_columns].apply(lambda x: \" | \".join(x), axis=1)\n",
    "df[\"tokens\"] = df[\"text\"].map(lambda x: clean_text(x, word_tokenize, custom_stopwords))\n",
    "\n",
    "# Remove duplicated after preprocessing\n",
    "_, idx = np.unique(df[\"tokens\"], return_index=True)\n",
    "df = df.iloc[idx, :]\n",
    "\n",
    "# Remove empty values and keep relevant columns\n",
    "df = df.loc[df.tokens.map(lambda x: len(x) > 0), [\"text\", \"tokens\"]]\n",
    "\n",
    "docs = df[\"text\"].values\n",
    "tokenized_docs = df[\"tokens\"].values\n",
    "\n",
    "print(f\"Original dataframe: {df_raw.shape}\")\n",
    "print(f\"Pre-processed dataframe: {df.shape}\")"
   ]
  },
  {
   "cell_type": "code",
   "execution_count": 3,
   "id": "017841e6",
   "metadata": {
    "execution": {
     "iopub.execute_input": "2023-02-05T17:50:24.507783Z",
     "iopub.status.busy": "2023-02-05T17:50:24.507369Z",
     "iopub.status.idle": "2023-02-05T17:50:24.518591Z",
     "shell.execute_reply": "2023-02-05T17:50:24.517614Z"
    },
    "papermill": {
     "duration": 0.024648,
     "end_time": "2023-02-05T17:50:24.520972",
     "exception": false,
     "start_time": "2023-02-05T17:50:24.496324",
     "status": "completed"
    },
    "tags": []
   },
   "outputs": [],
   "source": [
    "# DataFrame\n",
    "import pandas as pd\n",
    "\n",
    "# Matplot\n",
    "import matplotlib.pyplot as plt\n",
    "%matplotlib inline\n",
    "\n",
    "# Scikit-learn\n",
    "from sklearn.model_selection import train_test_split\n",
    "from sklearn.preprocessing import LabelEncoder\n",
    "from sklearn.metrics import confusion_matrix, classification_report, accuracy_score\n",
    "from sklearn.manifold import TSNE\n",
    "from sklearn.feature_extraction.text import TfidfVectorizer\n",
    "\n",
    "# Keras\n",
    "#from tensorflow import keras\n",
    "#import keras\n",
    "#from keras.preprocessing.text import Tokenizer\n",
    "\n",
    "# nltk\n",
    "import nltk\n",
    "from nltk.corpus import stopwords\n",
    "from  nltk.stem import SnowballStemmer\n",
    "\n",
    "# Word2vec\n",
    "import gensim\n",
    "\n",
    "# Utility\n",
    "import re\n",
    "import numpy as np\n",
    "import os\n",
    "from collections import Counter\n",
    "import logging\n",
    "import time\n",
    "import pickle\n",
    "import itertools\n",
    "\n",
    "# Set log\n",
    "logging.basicConfig(format='%(asctime)s : %(levelname)s : %(message)s', level=logging.INFO)"
   ]
  },
  {
   "cell_type": "code",
   "execution_count": 4,
   "id": "17bb99ae",
   "metadata": {
    "execution": {
     "iopub.execute_input": "2023-02-05T17:50:24.543353Z",
     "iopub.status.busy": "2023-02-05T17:50:24.542606Z",
     "iopub.status.idle": "2023-02-05T17:50:24.549998Z",
     "shell.execute_reply": "2023-02-05T17:50:24.549163Z"
    },
    "papermill": {
     "duration": 0.021035,
     "end_time": "2023-02-05T17:50:24.552104",
     "exception": false,
     "start_time": "2023-02-05T17:50:24.531069",
     "status": "completed"
    },
    "tags": []
   },
   "outputs": [],
   "source": [
    "# DATASET\n",
    "DATASET_COLUMNS = [\"target\", \"id\", \"date\", \"flag\", \"user\", \"text\"]\n",
    "DATASET_ENCODING = \"ISO-8859-1\"\n",
    "TRAIN_SIZE = 0.8\n",
    "\n",
    "# TEXT CLENAING\n",
    "TEXT_CLEANING_RE = \"@\\S+|https?:\\S+|http?:\\S|[^A-Za-z0-9]+\"\n",
    "\n",
    "# WORD2VEC \n",
    "W2V_SIZE = 300\n",
    "W2V_WINDOW = 7\n",
    "W2V_EPOCH = 32\n",
    "W2V_MIN_COUNT = 10\n",
    "\n",
    "# KERAS\n",
    "SEQUENCE_LENGTH = 300\n",
    "EPOCHS = 8\n",
    "BATCH_SIZE = 1024\n",
    "\n",
    "# SENTIMENT\n",
    "POSITIVE = \"POSITIVE\"\n",
    "NEGATIVE = \"NEGATIVE\"\n",
    "NEUTRAL = \"NEUTRAL\"\n",
    "SENTIMENT_THRESHOLDS = (0.4, 0.7)\n",
    "\n",
    "# EXPORT\n",
    "KERAS_MODEL = \"model.h5\"\n",
    "WORD2VEC_MODEL = \"model.w2v\"\n",
    "TOKENIZER_MODEL = \"tokenizer.pkl\"\n",
    "ENCODER_MODEL = \"encoder.pkl\""
   ]
  },
  {
   "cell_type": "code",
   "execution_count": 5,
   "id": "8d7dbade",
   "metadata": {
    "execution": {
     "iopub.execute_input": "2023-02-05T17:50:24.574512Z",
     "iopub.status.busy": "2023-02-05T17:50:24.574129Z",
     "iopub.status.idle": "2023-02-05T17:50:31.346347Z",
     "shell.execute_reply": "2023-02-05T17:50:31.344889Z"
    },
    "papermill": {
     "duration": 6.787036,
     "end_time": "2023-02-05T17:50:31.349241",
     "exception": false,
     "start_time": "2023-02-05T17:50:24.562205",
     "status": "completed"
    },
    "tags": []
   },
   "outputs": [],
   "source": [
    "#dataset_filename = os.listdir(\"/kaggle/input/TSABTAE/train1.csv\")[0]\n",
    "#dataset_path = os.path.join(\"..\",\"/kaggle/input/TSABTAE/\",dataset_filename)\n",
    "#print(\"Open file:\", dataset_path)\n",
    "df = pd.read_csv('/kaggle/input/TSABTAE/train1.csv')\n",
    "#train_data= pd.read_csv(\"/kaggle/input/TSABTAE/train1.csv\")#, delimiter ='\\t')\n",
    "test_data= pd.read_csv(\"/kaggle/input/TSABTAE/test1.csv\",)"
   ]
  },
  {
   "cell_type": "code",
   "execution_count": 6,
   "id": "8c427256",
   "metadata": {
    "execution": {
     "iopub.execute_input": "2023-02-05T17:50:31.372843Z",
     "iopub.status.busy": "2023-02-05T17:50:31.371723Z",
     "iopub.status.idle": "2023-02-05T17:50:31.378533Z",
     "shell.execute_reply": "2023-02-05T17:50:31.377218Z"
    },
    "papermill": {
     "duration": 0.020889,
     "end_time": "2023-02-05T17:50:31.381026",
     "exception": false,
     "start_time": "2023-02-05T17:50:31.360137",
     "status": "completed"
    },
    "tags": []
   },
   "outputs": [
    {
     "name": "stdout",
     "output_type": "stream",
     "text": [
      "Dataset size: 1023999\n"
     ]
    }
   ],
   "source": [
    "print(\"Dataset size:\", len(df))"
   ]
  },
  {
   "cell_type": "code",
   "execution_count": 7,
   "id": "f215af11",
   "metadata": {
    "execution": {
     "iopub.execute_input": "2023-02-05T17:50:31.403850Z",
     "iopub.status.busy": "2023-02-05T17:50:31.403415Z",
     "iopub.status.idle": "2023-02-05T17:50:31.408838Z",
     "shell.execute_reply": "2023-02-05T17:50:31.407712Z"
    },
    "papermill": {
     "duration": 0.019665,
     "end_time": "2023-02-05T17:50:31.411157",
     "exception": false,
     "start_time": "2023-02-05T17:50:31.391492",
     "status": "completed"
    },
    "tags": []
   },
   "outputs": [],
   "source": [
    "decode_map = {0: \"NEGATIVE\", 1: \"positive\"}\n",
    "def decode_sentiment(label):\n",
    "    return decode_map[int(label)]"
   ]
  },
  {
   "cell_type": "code",
   "execution_count": 8,
   "id": "bf5b804c",
   "metadata": {
    "execution": {
     "iopub.execute_input": "2023-02-05T17:50:31.434114Z",
     "iopub.status.busy": "2023-02-05T17:50:31.433701Z",
     "iopub.status.idle": "2023-02-05T17:50:31.881638Z",
     "shell.execute_reply": "2023-02-05T17:50:31.880105Z"
    },
    "papermill": {
     "duration": 0.463615,
     "end_time": "2023-02-05T17:50:31.885371",
     "exception": false,
     "start_time": "2023-02-05T17:50:31.421756",
     "status": "completed"
    },
    "tags": []
   },
   "outputs": [
    {
     "name": "stdout",
     "output_type": "stream",
     "text": [
      "CPU times: user 421 ms, sys: 14.7 ms, total: 436 ms\n",
      "Wall time: 441 ms\n"
     ]
    }
   ],
   "source": [
    "%%time\n",
    "df.target = df.target.apply(lambda x: decode_sentiment(x))"
   ]
  },
  {
   "cell_type": "code",
   "execution_count": 9,
   "id": "4a029a83",
   "metadata": {
    "execution": {
     "iopub.execute_input": "2023-02-05T17:50:31.908693Z",
     "iopub.status.busy": "2023-02-05T17:50:31.908200Z",
     "iopub.status.idle": "2023-02-05T17:50:32.211102Z",
     "shell.execute_reply": "2023-02-05T17:50:32.210018Z"
    },
    "papermill": {
     "duration": 0.317451,
     "end_time": "2023-02-05T17:50:32.213860",
     "exception": false,
     "start_time": "2023-02-05T17:50:31.896409",
     "status": "completed"
    },
    "tags": []
   },
   "outputs": [
    {
     "data": {
      "text/plain": [
       "Text(0.5, 1.0, 'Dataset labels distribuition')"
      ]
     },
     "execution_count": 9,
     "metadata": {},
     "output_type": "execute_result"
    },
    {
     "data": {
      "image/png": "[encoded data removed]",
      "text/plain": [
       "<Figure size 1152x576 with 1 Axes>"
      ]
     },
     "metadata": {
      "needs_background": "light"
     },
     "output_type": "display_data"
    }
   ],
   "source": [
    "target_cnt = Counter(df.target)\n",
    "\n",
    "plt.figure(figsize=(16,8))\n",
    "plt.bar(target_cnt.keys(), target_cnt.values())\n",
    "plt.title(\"Dataset labels distribuition\")"
   ]
  },
  {
   "cell_type": "code",
   "execution_count": 10,
   "id": "efabba86",
   "metadata": {
    "execution": {
     "iopub.execute_input": "2023-02-05T17:50:32.238334Z",
     "iopub.status.busy": "2023-02-05T17:50:32.237573Z",
     "iopub.status.idle": "2023-02-05T17:50:33.116250Z",
     "shell.execute_reply": "2023-02-05T17:50:33.115006Z"
    },
    "papermill": {
     "duration": 0.893738,
     "end_time": "2023-02-05T17:50:33.118764",
     "exception": false,
     "start_time": "2023-02-05T17:50:32.225026",
     "status": "completed"
    },
    "tags": []
   },
   "outputs": [
    {
     "name": "stdout",
     "output_type": "stream",
     "text": [
      "TRAIN size: 819199\n",
      "TEST size: 204800\n"
     ]
    }
   ],
   "source": [
    "df_train, df_test = train_test_split(df, test_size=1-TRAIN_SIZE, random_state=42)\n",
    "print(\"TRAIN size:\", len(df_train))\n",
    "print(\"TEST size:\", len(df_test))"
   ]
  },
  {
   "cell_type": "code",
   "execution_count": 11,
   "id": "1e261b5c",
   "metadata": {
    "execution": {
     "iopub.execute_input": "2023-02-05T17:50:33.142836Z",
     "iopub.status.busy": "2023-02-05T17:50:33.142407Z",
     "iopub.status.idle": "2023-02-05T17:50:33.149023Z",
     "shell.execute_reply": "2023-02-05T17:50:33.147858Z"
    },
    "papermill": {
     "duration": 0.021505,
     "end_time": "2023-02-05T17:50:33.151451",
     "exception": false,
     "start_time": "2023-02-05T17:50:33.129946",
     "status": "completed"
    },
    "tags": []
   },
   "outputs": [],
   "source": [
    "w2v_model = gensim.models.word2vec.Word2Vec(#size=W2V_SIZE, \n",
    "                                            window=W2V_WINDOW, \n",
    "                                            min_count=W2V_MIN_COUNT, \n",
    "                                            workers=8)"
   ]
  },
  {
   "cell_type": "code",
   "execution_count": 12,
   "id": "ee3239af",
   "metadata": {
    "execution": {
     "iopub.execute_input": "2023-02-05T17:50:33.175955Z",
     "iopub.status.busy": "2023-02-05T17:50:33.175162Z",
     "iopub.status.idle": "2023-02-05T17:50:36.521466Z",
     "shell.execute_reply": "2023-02-05T17:50:36.520314Z"
    },
    "papermill": {
     "duration": 3.361438,
     "end_time": "2023-02-05T17:50:36.524170",
     "exception": false,
     "start_time": "2023-02-05T17:50:33.162732",
     "status": "completed"
    },
    "tags": []
   },
   "outputs": [],
   "source": [
    "documents = [_text.split() for _text in df_train.text] "
   ]
  },
  {
   "cell_type": "code",
   "execution_count": 13,
   "id": "cca80d91",
   "metadata": {
    "execution": {
     "iopub.execute_input": "2023-02-05T17:50:36.548848Z",
     "iopub.status.busy": "2023-02-05T17:50:36.548426Z",
     "iopub.status.idle": "2023-02-05T17:50:41.516968Z",
     "shell.execute_reply": "2023-02-05T17:50:41.515778Z"
    },
    "papermill": {
     "duration": 4.983853,
     "end_time": "2023-02-05T17:50:41.519874",
     "exception": false,
     "start_time": "2023-02-05T17:50:36.536021",
     "status": "completed"
    },
    "tags": []
   },
   "outputs": [],
   "source": [
    "w2v_model.build_vocab(documents)"
   ]
  },
  {
   "cell_type": "code",
   "execution_count": 14,
   "id": "0bc1b84f",
   "metadata": {
    "execution": {
     "iopub.execute_input": "2023-02-05T17:50:41.544363Z",
     "iopub.status.busy": "2023-02-05T17:50:41.543898Z",
     "iopub.status.idle": "2023-02-05T17:51:06.120976Z",
     "shell.execute_reply": "2023-02-05T17:51:06.119661Z"
    },
    "papermill": {
     "duration": 24.592437,
     "end_time": "2023-02-05T17:51:06.123682",
     "exception": false,
     "start_time": "2023-02-05T17:50:41.531245",
     "status": "completed"
    },
    "tags": []
   },
   "outputs": [
    {
     "name": "stdout",
     "output_type": "stream",
     "text": [
      "Total words 439136\n"
     ]
    }
   ],
   "source": [
    "from keras.preprocessing.text import Tokenizer\n",
    "tokenizer = Tokenizer()\n",
    "tokenizer.fit_on_texts(df_train.text)\n",
    "\n",
    "vocab_size = len(tokenizer.word_index) + 1\n",
    "print(\"Total words\", vocab_size)"
   ]
  },
  {
   "cell_type": "code",
   "execution_count": 15,
   "id": "34679b8d",
   "metadata": {
    "execution": {
     "iopub.execute_input": "2023-02-05T17:51:06.151175Z",
     "iopub.status.busy": "2023-02-05T17:51:06.149422Z",
     "iopub.status.idle": "2023-02-05T17:51:29.716081Z",
     "shell.execute_reply": "2023-02-05T17:51:29.715096Z"
    },
    "papermill": {
     "duration": 23.582479,
     "end_time": "2023-02-05T17:51:29.718928",
     "exception": false,
     "start_time": "2023-02-05T17:51:06.136449",
     "status": "completed"
    },
    "tags": []
   },
   "outputs": [],
   "source": [
    "from keras.preprocessing.sequence import pad_sequences\n",
    "\n",
    "x_train = pad_sequences(tokenizer.texts_to_sequences(df_train.text), maxlen=SEQUENCE_LENGTH)\n",
    "x_test = pad_sequences(tokenizer.texts_to_sequences(df_test.text), maxlen=SEQUENCE_LENGTH)"
   ]
  },
  {
   "cell_type": "code",
   "execution_count": 16,
   "id": "c91fd4ac",
   "metadata": {
    "execution": {
     "iopub.execute_input": "2023-02-05T17:51:29.743711Z",
     "iopub.status.busy": "2023-02-05T17:51:29.743333Z",
     "iopub.status.idle": "2023-02-05T17:51:29.808783Z",
     "shell.execute_reply": "2023-02-05T17:51:29.807669Z"
    },
    "papermill": {
     "duration": 0.080088,
     "end_time": "2023-02-05T17:51:29.810989",
     "exception": false,
     "start_time": "2023-02-05T17:51:29.730901",
     "status": "completed"
    },
    "tags": []
   },
   "outputs": [
    {
     "data": {
      "text/plain": [
       "['positive', 'NEGATIVE', 'NEUTRAL']"
      ]
     },
     "execution_count": 16,
     "metadata": {},
     "output_type": "execute_result"
    }
   ],
   "source": [
    "labels = df_train.target.unique().tolist()\n",
    "labels.append(NEUTRAL)\n",
    "labels"
   ]
  },
  {
   "cell_type": "code",
   "execution_count": 17,
   "id": "1bde63c6",
   "metadata": {
    "execution": {
     "iopub.execute_input": "2023-02-05T17:51:29.836608Z",
     "iopub.status.busy": "2023-02-05T17:51:29.835598Z",
     "iopub.status.idle": "2023-02-05T17:51:30.838429Z",
     "shell.execute_reply": "2023-02-05T17:51:30.837032Z"
    },
    "papermill": {
     "duration": 1.018239,
     "end_time": "2023-02-05T17:51:30.841034",
     "exception": false,
     "start_time": "2023-02-05T17:51:29.822795",
     "status": "completed"
    },
    "tags": []
   },
   "outputs": [
    {
     "name": "stdout",
     "output_type": "stream",
     "text": [
      "y_train (819199, 1)\n",
      "y_test (204800, 1)\n"
     ]
    }
   ],
   "source": [
    "encoder = LabelEncoder()\n",
    "encoder.fit(df_train.target.tolist())\n",
    "\n",
    "y_train = encoder.transform(df_train.target.tolist())\n",
    "y_test = encoder.transform(df_test.target.tolist())\n",
    "\n",
    "y_train = y_train.reshape(-1,1)\n",
    "y_test = y_test.reshape(-1,1)\n",
    "\n",
    "print(\"y_train\",y_train.shape)\n",
    "print(\"y_test\",y_test.shape)"
   ]
  },
  {
   "cell_type": "code",
   "execution_count": 18,
   "id": "94f9ce3c",
   "metadata": {
    "execution": {
     "iopub.execute_input": "2023-02-05T17:51:30.866483Z",
     "iopub.status.busy": "2023-02-05T17:51:30.866031Z",
     "iopub.status.idle": "2023-02-05T17:51:30.870692Z",
     "shell.execute_reply": "2023-02-05T17:51:30.869664Z"
    },
    "papermill": {
     "duration": 0.019819,
     "end_time": "2023-02-05T17:51:30.872844",
     "exception": false,
     "start_time": "2023-02-05T17:51:30.853025",
     "status": "completed"
    },
    "tags": []
   },
   "outputs": [],
   "source": [
    "#model = Word2Vec(sentences=tokenized_docs, vector_size=100, workers=1, seed=SEED)\n"
   ]
  },
  {
   "cell_type": "markdown",
   "id": "790c8ccc",
   "metadata": {
    "papermill": {
     "duration": 0.011589,
     "end_time": "2023-02-05T17:51:30.896313",
     "exception": false,
     "start_time": "2023-02-05T17:51:30.884724",
     "status": "completed"
    },
    "tags": []
   },
   "source": [
    "Note: In many cases, you might want to use a pre-trained model instead of training one yourself. If that's the case, gensim provides you with an easy way to access some of the most popular pre-trained word embeddings.\n",
    "You can load a pre-trained Word2Vec model as follows:\n"
   ]
  },
  {
   "cell_type": "code",
   "execution_count": 19,
   "id": "1962f9c9",
   "metadata": {
    "execution": {
     "iopub.execute_input": "2023-02-05T17:51:30.921929Z",
     "iopub.status.busy": "2023-02-05T17:51:30.921508Z",
     "iopub.status.idle": "2023-02-05T17:51:30.995188Z",
     "shell.execute_reply": "2023-02-05T17:51:30.994305Z"
    },
    "papermill": {
     "duration": 0.089158,
     "end_time": "2023-02-05T17:51:30.997438",
     "exception": false,
     "start_time": "2023-02-05T17:51:30.908280",
     "status": "completed"
    },
    "tags": []
   },
   "outputs": [
    {
     "data": {
      "text/plain": [
       "['positive', 'NEGATIVE', 'NEUTRAL']"
      ]
     },
     "execution_count": 19,
     "metadata": {},
     "output_type": "execute_result"
    }
   ],
   "source": [
    "labels = df_train.target.unique().tolist()\n",
    "labels.append(NEUTRAL)\n",
    "labels"
   ]
  },
  {
   "cell_type": "code",
   "execution_count": 20,
   "id": "04a57c6a",
   "metadata": {
    "execution": {
     "iopub.execute_input": "2023-02-05T17:51:31.023328Z",
     "iopub.status.busy": "2023-02-05T17:51:31.022233Z",
     "iopub.status.idle": "2023-02-05T17:51:31.985786Z",
     "shell.execute_reply": "2023-02-05T17:51:31.984584Z"
    },
    "papermill": {
     "duration": 0.97882,
     "end_time": "2023-02-05T17:51:31.988194",
     "exception": false,
     "start_time": "2023-02-05T17:51:31.009374",
     "status": "completed"
    },
    "tags": []
   },
   "outputs": [
    {
     "name": "stdout",
     "output_type": "stream",
     "text": [
      "y_train (819199, 1)\n",
      "y_test (204800, 1)\n"
     ]
    }
   ],
   "source": [
    "encoder = LabelEncoder()\n",
    "encoder.fit(df_train.target.tolist())\n",
    "\n",
    "y_train = encoder.transform(df_train.target.tolist())\n",
    "y_test = encoder.transform(df_test.target.tolist())\n",
    "\n",
    "y_train = y_train.reshape(-1,1)\n",
    "y_test = y_test.reshape(-1,1)\n",
    "\n",
    "print(\"y_train\",y_train.shape)\n",
    "print(\"y_test\",y_test.shape)"
   ]
  },
  {
   "cell_type": "code",
   "execution_count": 21,
   "id": "d9681e63",
   "metadata": {
    "execution": {
     "iopub.execute_input": "2023-02-05T17:51:32.013862Z",
     "iopub.status.busy": "2023-02-05T17:51:32.013483Z",
     "iopub.status.idle": "2023-02-05T17:51:32.019165Z",
     "shell.execute_reply": "2023-02-05T17:51:32.018076Z"
    },
    "papermill": {
     "duration": 0.022246,
     "end_time": "2023-02-05T17:51:32.022416",
     "exception": false,
     "start_time": "2023-02-05T17:51:32.000170",
     "status": "completed"
    },
    "tags": []
   },
   "outputs": [
    {
     "name": "stdout",
     "output_type": "stream",
     "text": [
      "x_train (819199, 300)\n",
      "y_train (819199, 1)\n",
      "\n",
      "x_test (204800, 300)\n",
      "y_test (204800, 1)\n"
     ]
    }
   ],
   "source": [
    "print(\"x_train\", x_train.shape)\n",
    "print(\"y_train\", y_train.shape)\n",
    "print()\n",
    "print(\"x_test\", x_test.shape)\n",
    "print(\"y_test\", y_test.shape)"
   ]
  },
  {
   "cell_type": "markdown",
   "id": "25d63628",
   "metadata": {
    "execution": {
     "iopub.execute_input": "2023-02-04T13:03:23.432927Z",
     "iopub.status.busy": "2023-02-04T13:03:23.432410Z",
     "iopub.status.idle": "2023-02-04T13:03:23.467579Z",
     "shell.execute_reply": "2023-02-04T13:03:23.465783Z",
     "shell.execute_reply.started": "2023-02-04T13:03:23.432895Z"
    },
    "papermill": {
     "duration": 0.011907,
     "end_time": "2023-02-05T17:51:32.047477",
     "exception": false,
     "start_time": "2023-02-05T17:51:32.035570",
     "status": "completed"
    },
    "tags": []
   },
   "source": [
    "embedding_matrix = np.zeros((vocab_size, W2V_SIZE))\n",
    "for word, i in tokenizer.word_index.items():\n",
    "  if word in w2v_model.wv:\n",
    "    embedding_matrix[i] = w2v_model.wv[word]\n",
    "print(embedding_matrix.shape)"
   ]
  },
  {
   "cell_type": "code",
   "execution_count": 22,
   "id": "6f85c5c5",
   "metadata": {
    "execution": {
     "iopub.execute_input": "2023-02-05T17:51:32.073446Z",
     "iopub.status.busy": "2023-02-05T17:51:32.073014Z",
     "iopub.status.idle": "2023-02-05T17:51:53.669224Z",
     "shell.execute_reply": "2023-02-05T17:51:53.668083Z"
    },
    "papermill": {
     "duration": 21.61212,
     "end_time": "2023-02-05T17:51:53.671647",
     "exception": false,
     "start_time": "2023-02-05T17:51:32.059527",
     "status": "completed"
    },
    "tags": []
   },
   "outputs": [
    {
     "data": {
      "text/plain": [
       "array([0, 0, 0, ..., 0, 0, 0], dtype=int32)"
      ]
     },
     "execution_count": 22,
     "metadata": {},
     "output_type": "execute_result"
    }
   ],
   "source": [
    "import matplotlib.pyplot as plt\n",
    "\n",
    "from sklearn.cluster import KMeans\n",
    "\n",
    "#data = list(zip(X_train,  y_train))\n",
    "#kmeans = KMeans(n_clusters=2)\n",
    "kmeans = KMeans(n_clusters=2, random_state=0, )#n_init=\"auto\")#.fit(X_train)\n",
    "kmeans.fit(x_train)#  y_train)#data)\n",
    "kmeans.labels_"
   ]
  },
  {
   "cell_type": "code",
   "execution_count": 23,
   "id": "b6d959c4",
   "metadata": {
    "execution": {
     "iopub.execute_input": "2023-02-05T17:51:53.698286Z",
     "iopub.status.busy": "2023-02-05T17:51:53.697384Z",
     "iopub.status.idle": "2023-02-05T17:52:00.034162Z",
     "shell.execute_reply": "2023-02-05T17:52:00.033069Z"
    },
    "papermill": {
     "duration": 6.352869,
     "end_time": "2023-02-05T17:52:00.036957",
     "exception": false,
     "start_time": "2023-02-05T17:51:53.684088",
     "status": "completed"
    },
    "tags": []
   },
   "outputs": [
    {
     "data": {
      "text/plain": [
       "array([0, 0, 0, ..., 0, 0, 0], dtype=int32)"
      ]
     },
     "execution_count": 23,
     "metadata": {},
     "output_type": "execute_result"
    }
   ],
   "source": [
    "identified_clusters = kmeans.fit_predict(x_test)\n",
    "identified_clusters"
   ]
  },
  {
   "cell_type": "code",
   "execution_count": 24,
   "id": "b905cb6a",
   "metadata": {
    "execution": {
     "iopub.execute_input": "2023-02-05T17:52:00.063714Z",
     "iopub.status.busy": "2023-02-05T17:52:00.063321Z",
     "iopub.status.idle": "2023-02-05T17:52:00.453940Z",
     "shell.execute_reply": "2023-02-05T17:52:00.452626Z"
    },
    "papermill": {
     "duration": 0.407278,
     "end_time": "2023-02-05T17:52:00.456869",
     "exception": false,
     "start_time": "2023-02-05T17:52:00.049591",
     "status": "completed"
    },
    "tags": []
   },
   "outputs": [
    {
     "name": "stdout",
     "output_type": "stream",
     "text": [
      "ConfusionMatrix [[100926    881]\n",
      " [101871   1122]]\n",
      "              precision    recall  f1-score   support\n",
      "\n",
      "           0       0.50      0.99      0.66    101807\n",
      "           1       0.56      0.01      0.02    102993\n",
      "\n",
      "    accuracy                           0.50    204800\n",
      "   macro avg       0.53      0.50      0.34    204800\n",
      "weighted avg       0.53      0.50      0.34    204800\n",
      "\n"
     ]
    }
   ],
   "source": [
    "from sklearn.metrics import confusion_matrix,classification_report\n",
    "print(\"ConfusionMatrix\",confusion_matrix(y_test,identified_clusters))\n",
    "print(classification_report(y_test,identified_clusters))"
   ]
  },
  {
   "cell_type": "code",
   "execution_count": 25,
   "id": "05dd9812",
   "metadata": {
    "execution": {
     "iopub.execute_input": "2023-02-05T17:52:00.486075Z",
     "iopub.status.busy": "2023-02-05T17:52:00.483893Z",
     "iopub.status.idle": "2023-02-05T17:52:00.722706Z",
     "shell.execute_reply": "2023-02-05T17:52:00.721286Z"
    },
    "papermill": {
     "duration": 0.255168,
     "end_time": "2023-02-05T17:52:00.725237",
     "exception": false,
     "start_time": "2023-02-05T17:52:00.470069",
     "status": "completed"
    },
    "tags": []
   },
   "outputs": [
    {
     "data": {
      "image/png": "[encoded data removed]",
      "text/plain": [
       "<Figure size 432x288 with 2 Axes>"
      ]
     },
     "metadata": {
      "needs_background": "light"
     },
     "output_type": "display_data"
    }
   ],
   "source": [
    "import matplotlib.pyplot as plt\n",
    "from sklearn import metrics\n",
    "\n",
    "confusion_matrix = metrics.confusion_matrix(y_test,identified_clusters)\n",
    "\n",
    "cm_display = metrics.ConfusionMatrixDisplay(confusion_matrix = confusion_matrix, display_labels = [False, True])\n",
    "\n",
    "cm_display.plot()\n",
    "plt.show()"
   ]
  },
  {
   "cell_type": "markdown",
   "id": "41945369",
   "metadata": {
    "papermill": {
     "duration": 0.012443,
     "end_time": "2023-02-05T17:52:00.750734",
     "exception": false,
     "start_time": "2023-02-05T17:52:00.738291",
     "status": "completed"
    },
    "tags": []
   },
   "source": [
    "Test"
   ]
  },
  {
   "cell_type": "code",
   "execution_count": 26,
   "id": "fa0cfab7",
   "metadata": {
    "execution": {
     "iopub.execute_input": "2023-02-05T17:52:00.778759Z",
     "iopub.status.busy": "2023-02-05T17:52:00.778372Z",
     "iopub.status.idle": "2023-02-05T17:52:07.545755Z",
     "shell.execute_reply": "2023-02-05T17:52:07.544339Z"
    },
    "papermill": {
     "duration": 6.784176,
     "end_time": "2023-02-05T17:52:07.548133",
     "exception": false,
     "start_time": "2023-02-05T17:52:00.763957",
     "status": "completed"
    },
    "tags": []
   },
   "outputs": [
    {
     "name": "stdout",
     "output_type": "stream",
     "text": [
      "Total words 528557\n"
     ]
    }
   ],
   "source": [
    "tokenizer.fit_on_texts(test_data.text)\n",
    "\n",
    "vocab_size = len(tokenizer.word_index) + 1\n",
    "print(\"Total words\", vocab_size)"
   ]
  },
  {
   "cell_type": "code",
   "execution_count": 27,
   "id": "a20a06d9",
   "metadata": {
    "execution": {
     "iopub.execute_input": "2023-02-05T17:52:07.575662Z",
     "iopub.status.busy": "2023-02-05T17:52:07.575253Z",
     "iopub.status.idle": "2023-02-05T17:52:13.173397Z",
     "shell.execute_reply": "2023-02-05T17:52:13.172336Z"
    },
    "papermill": {
     "duration": 5.614933,
     "end_time": "2023-02-05T17:52:13.175987",
     "exception": false,
     "start_time": "2023-02-05T17:52:07.561054",
     "status": "completed"
    },
    "tags": []
   },
   "outputs": [],
   "source": [
    "x_orgionaltest = pad_sequences(tokenizer.texts_to_sequences(test_data.text), maxlen=SEQUENCE_LENGTH)"
   ]
  },
  {
   "cell_type": "code",
   "execution_count": 28,
   "id": "2108772c",
   "metadata": {
    "execution": {
     "iopub.execute_input": "2023-02-05T17:52:13.204057Z",
     "iopub.status.busy": "2023-02-05T17:52:13.203683Z",
     "iopub.status.idle": "2023-02-05T17:52:18.165405Z",
     "shell.execute_reply": "2023-02-05T17:52:18.164208Z"
    },
    "papermill": {
     "duration": 4.978471,
     "end_time": "2023-02-05T17:52:18.167780",
     "exception": false,
     "start_time": "2023-02-05T17:52:13.189309",
     "status": "completed"
    },
    "tags": []
   },
   "outputs": [
    {
     "data": {
      "text/plain": [
       "array([0, 0, 0, ..., 0, 0, 0], dtype=int32)"
      ]
     },
     "execution_count": 28,
     "metadata": {},
     "output_type": "execute_result"
    }
   ],
   "source": [
    "identified_clusters = kmeans.fit_predict(x_orgionaltest)\n",
    "identified_clusters"
   ]
  },
  {
   "cell_type": "code",
   "execution_count": 29,
   "id": "4b51ab57",
   "metadata": {
    "execution": {
     "iopub.execute_input": "2023-02-05T17:52:18.196914Z",
     "iopub.status.busy": "2023-02-05T17:52:18.195900Z",
     "iopub.status.idle": "2023-02-05T17:52:18.476671Z",
     "shell.execute_reply": "2023-02-05T17:52:18.475813Z"
    },
    "papermill": {
     "duration": 0.297539,
     "end_time": "2023-02-05T17:52:18.478960",
     "exception": false,
     "start_time": "2023-02-05T17:52:18.181421",
     "status": "completed"
    },
    "tags": []
   },
   "outputs": [
    {
     "data": {
      "text/html": [
       "<div>\n",
       "<style scoped>\n",
       "    .dataframe tbody tr th:only-of-type {\n",
       "        vertical-align: middle;\n",
       "    }\n",
       "\n",
       "    .dataframe tbody tr th {\n",
       "        vertical-align: top;\n",
       "    }\n",
       "\n",
       "    .dataframe thead th {\n",
       "        text-align: right;\n",
       "    }\n",
       "</style>\n",
       "<table border=\"1\" class=\"dataframe\">\n",
       "  <thead>\n",
       "    <tr style=\"text-align: right;\">\n",
       "      <th></th>\n",
       "      <th>id</th>\n",
       "      <th>target</th>\n",
       "    </tr>\n",
       "  </thead>\n",
       "  <tbody>\n",
       "    <tr>\n",
       "      <th>0</th>\n",
       "      <td>1136227</td>\n",
       "      <td>0</td>\n",
       "    </tr>\n",
       "    <tr>\n",
       "      <th>1</th>\n",
       "      <td>738556</td>\n",
       "      <td>0</td>\n",
       "    </tr>\n",
       "    <tr>\n",
       "      <th>2</th>\n",
       "      <td>1289784</td>\n",
       "      <td>0</td>\n",
       "    </tr>\n",
       "    <tr>\n",
       "      <th>3</th>\n",
       "      <td>1419520</td>\n",
       "      <td>1</td>\n",
       "    </tr>\n",
       "    <tr>\n",
       "      <th>4</th>\n",
       "      <td>1178091</td>\n",
       "      <td>0</td>\n",
       "    </tr>\n",
       "  </tbody>\n",
       "</table>\n",
       "</div>"
      ],
      "text/plain": [
       "        id  target\n",
       "0  1136227       0\n",
       "1   738556       0\n",
       "2  1289784       0\n",
       "3  1419520       1\n",
       "4  1178091       0"
      ]
     },
     "execution_count": 29,
     "metadata": {},
     "output_type": "execute_result"
    }
   ],
   "source": [
    "submission = pd.DataFrame(data = {'id': test_data.id, 'target': identified_clusters})\n",
    "submission.to_csv('Word2vec&KerasToken_Kmeanclusters1.csv', index = False)\n",
    "submission.head()"
   ]
  },
  {
   "cell_type": "markdown",
   "id": "b27f092a",
   "metadata": {
    "papermill": {
     "duration": 0.012875,
     "end_time": "2023-02-05T17:52:18.505160",
     "exception": false,
     "start_time": "2023-02-05T17:52:18.492285",
     "status": "completed"
    },
    "tags": []
   },
   "source": [
    "# MiniBatch "
   ]
  },
  {
   "cell_type": "code",
   "execution_count": 30,
   "id": "a7b2540c",
   "metadata": {
    "execution": {
     "iopub.execute_input": "2023-02-05T17:52:18.533633Z",
     "iopub.status.busy": "2023-02-05T17:52:18.532860Z",
     "iopub.status.idle": "2023-02-05T17:52:22.764666Z",
     "shell.execute_reply": "2023-02-05T17:52:22.763091Z"
    },
    "papermill": {
     "duration": 4.249104,
     "end_time": "2023-02-05T17:52:22.767460",
     "exception": false,
     "start_time": "2023-02-05T17:52:18.518356",
     "status": "completed"
    },
    "tags": []
   },
   "outputs": [],
   "source": [
    "from sklearn.cluster import MiniBatchKMeans\n",
    "MiniBatchkmeans = MiniBatchKMeans(n_clusters=2,\n",
    "                          random_state=0,\n",
    "                          batch_size=10000,#100\n",
    "                          ).fit(x_train)"
   ]
  },
  {
   "cell_type": "code",
   "execution_count": 31,
   "id": "a2a73dbd",
   "metadata": {
    "execution": {
     "iopub.execute_input": "2023-02-05T17:52:22.797641Z",
     "iopub.status.busy": "2023-02-05T17:52:22.796671Z",
     "iopub.status.idle": "2023-02-05T17:52:24.246221Z",
     "shell.execute_reply": "2023-02-05T17:52:24.245183Z"
    },
    "papermill": {
     "duration": 1.467543,
     "end_time": "2023-02-05T17:52:24.248829",
     "exception": false,
     "start_time": "2023-02-05T17:52:22.781286",
     "status": "completed"
    },
    "tags": []
   },
   "outputs": [],
   "source": [
    "pred=MiniBatchkmeans.fit_predict(x_test)\n"
   ]
  },
  {
   "cell_type": "code",
   "execution_count": 32,
   "id": "6372b948",
   "metadata": {
    "execution": {
     "iopub.execute_input": "2023-02-05T17:52:24.278495Z",
     "iopub.status.busy": "2023-02-05T17:52:24.278106Z",
     "iopub.status.idle": "2023-02-05T17:52:24.675317Z",
     "shell.execute_reply": "2023-02-05T17:52:24.674204Z"
    },
    "papermill": {
     "duration": 0.414441,
     "end_time": "2023-02-05T17:52:24.677966",
     "exception": false,
     "start_time": "2023-02-05T17:52:24.263525",
     "status": "completed"
    },
    "tags": []
   },
   "outputs": [
    {
     "name": "stdout",
     "output_type": "stream",
     "text": [
      "ConfusionMatrix [[  1745 100062]\n",
      " [  2306 100687]]\n",
      "              precision    recall  f1-score   support\n",
      "\n",
      "           0       0.43      0.02      0.03    101807\n",
      "           1       0.50      0.98      0.66    102993\n",
      "\n",
      "    accuracy                           0.50    204800\n",
      "   macro avg       0.47      0.50      0.35    204800\n",
      "weighted avg       0.47      0.50      0.35    204800\n",
      "\n"
     ]
    }
   ],
   "source": [
    "from sklearn.metrics import confusion_matrix,classification_report\n",
    "print(\"ConfusionMatrix\",confusion_matrix(y_test,pred))\n",
    "print(classification_report(y_test,pred))"
   ]
  },
  {
   "cell_type": "code",
   "execution_count": 33,
   "id": "cffc5954",
   "metadata": {
    "execution": {
     "iopub.execute_input": "2023-02-05T17:52:24.707142Z",
     "iopub.status.busy": "2023-02-05T17:52:24.706630Z",
     "iopub.status.idle": "2023-02-05T17:52:24.997384Z",
     "shell.execute_reply": "2023-02-05T17:52:24.996484Z"
    },
    "papermill": {
     "duration": 0.30808,
     "end_time": "2023-02-05T17:52:24.999639",
     "exception": false,
     "start_time": "2023-02-05T17:52:24.691559",
     "status": "completed"
    },
    "tags": []
   },
   "outputs": [
    {
     "data": {
      "image/png": "[encoded data removed]",
      "text/plain": [
       "<Figure size 432x288 with 2 Axes>"
      ]
     },
     "metadata": {
      "needs_background": "light"
     },
     "output_type": "display_data"
    }
   ],
   "source": [
    "confusion_matrix = metrics.confusion_matrix(y_test,pred)\n",
    "\n",
    "cm_display = metrics.ConfusionMatrixDisplay(confusion_matrix = confusion_matrix, display_labels = [False, True])\n",
    "\n",
    "cm_display.plot()\n",
    "plt.show()"
   ]
  },
  {
   "cell_type": "markdown",
   "id": "9937cf73",
   "metadata": {
    "execution": {
     "iopub.status.busy": "2023-02-04T12:53:11.586726Z",
     "iopub.status.idle": "2023-02-04T12:53:11.587718Z",
     "shell.execute_reply": "2023-02-04T12:53:11.587372Z",
     "shell.execute_reply.started": "2023-02-04T12:53:11.587336Z"
    },
    "papermill": {
     "duration": 0.013492,
     "end_time": "2023-02-05T17:52:25.027212",
     "exception": false,
     "start_time": "2023-02-05T17:52:25.013720",
     "status": "completed"
    },
    "tags": []
   },
   "source": [
    "import gensim.downloader as api\n",
    "wv = api.load('word2vec-google-news-300')"
   ]
  },
  {
   "cell_type": "markdown",
   "id": "1b444322",
   "metadata": {
    "papermill": {
     "duration": 0.013532,
     "end_time": "2023-02-05T17:52:25.054453",
     "exception": false,
     "start_time": "2023-02-05T17:52:25.040921",
     "status": "completed"
    },
    "tags": []
   },
   "source": [
    "word_vectors = model.wv #load the vectors from the model\n"
   ]
  },
  {
   "cell_type": "markdown",
   "id": "a71afdbb",
   "metadata": {
    "execution": {
     "iopub.status.busy": "2023-02-04T12:53:11.590613Z",
     "iopub.status.idle": "2023-02-04T12:53:11.591189Z",
     "shell.execute_reply": "2023-02-04T12:53:11.590974Z",
     "shell.execute_reply.started": "2023-02-04T12:53:11.590945Z"
    },
    "papermill": {
     "duration": 0.01353,
     "end_time": "2023-02-05T17:52:25.081756",
     "exception": false,
     "start_time": "2023-02-05T17:52:25.068226",
     "status": "completed"
    },
    "tags": []
   },
   "source": [
    "def vectorize(list_of_docs, model):\n",
    "    \"\"\"Generate vectors for list of documents using a Word Embedding\n",
    "\n",
    "    Args:\n",
    "        list_of_docs: List of documents\n",
    "        model: Gensim's Word Embedding\n",
    "\n",
    "    Returns:\n",
    "        List of document vectors\n",
    "    \"\"\"\n",
    "    features = []\n",
    "\n",
    "    for tokens in list_of_docs:\n",
    "        zero_vector = np.zeros(model.vector_size)\n",
    "        vectors = []\n",
    "        for token in tokens:\n",
    "            if token in model.wv:\n",
    "                try:\n",
    "                    vectors.append(model.wv[token])\n",
    "                except KeyError:\n",
    "                    continue\n",
    "        if vectors:\n",
    "            vectors = np.asarray(vectors)\n",
    "            avg_vec = vectors.mean(axis=0)\n",
    "            features.append(avg_vec)\n",
    "        else:\n",
    "            features.append(zero_vector)\n",
    "    return features\n",
    "    \n",
    "vectorized_docs = vectorize(tokenized_docs, model=model)\n",
    "len(vectorized_docs), len(vectorized_docs[0])"
   ]
  },
  {
   "cell_type": "code",
   "execution_count": 34,
   "id": "0d6fa8fa",
   "metadata": {
    "execution": {
     "iopub.execute_input": "2023-02-05T17:52:25.111884Z",
     "iopub.status.busy": "2023-02-05T17:52:25.110788Z",
     "iopub.status.idle": "2023-02-05T17:52:25.115038Z",
     "shell.execute_reply": "2023-02-05T17:52:25.114289Z"
    },
    "papermill": {
     "duration": 0.021714,
     "end_time": "2023-02-05T17:52:25.117236",
     "exception": false,
     "start_time": "2023-02-05T17:52:25.095522",
     "status": "completed"
    },
    "tags": []
   },
   "outputs": [],
   "source": [
    "#vectorized_docs"
   ]
  },
  {
   "cell_type": "markdown",
   "id": "2f1cd7fd",
   "metadata": {
    "papermill": {
     "duration": 0.013471,
     "end_time": "2023-02-05T17:52:25.144452",
     "exception": false,
     "start_time": "2023-02-05T17:52:25.130981",
     "status": "completed"
    },
    "tags": []
   },
   "source": [
    "This function creates the clusters using the Mini-batches K-means algorithm. It takes the following arguments:\n",
    "\n",
    "X: Matrix of features. In this case, it's your vectorized documents.\n",
    "k: Number of clusters you'd like to create.\n",
    "mb: Size of mini-batches.\n",
    "print_silhouette_values: Defines if the Silhouette Coefficient is printed for each cluster. If you haven't heard about this coefficient, don't worry, you'll learn about it in a bit!\n",
    "mbkmeans_cluster takes these arguments and returns the fitted clustering model and the labels for each document."
   ]
  },
  {
   "cell_type": "markdown",
   "id": "39868a8d",
   "metadata": {
    "execution": {
     "iopub.status.busy": "2023-02-04T12:53:11.595744Z",
     "iopub.status.idle": "2023-02-04T12:53:11.596233Z",
     "shell.execute_reply": "2023-02-04T12:53:11.596042Z",
     "shell.execute_reply.started": "2023-02-04T12:53:11.596021Z"
    },
    "papermill": {
     "duration": 0.013357,
     "end_time": "2023-02-05T17:52:25.171636",
     "exception": false,
     "start_time": "2023-02-05T17:52:25.158279",
     "status": "completed"
    },
    "tags": []
   },
   "source": [
    "import numpy as np \n",
    "import pandas as pd\n",
    "import matplotlib.pyplot as plt\n",
    "# read data \n",
    "train_data= pd.read_csv(\"/kaggle/input/TSABTAE/train1.csv\")#, delimiter ='\\t')\n",
    "test_data= pd.read_csv(\"/kaggle/input/TSABTAE/test1.csv\",)# delimiter ='\\t')"
   ]
  },
  {
   "cell_type": "code",
   "execution_count": 35,
   "id": "47cf57d3",
   "metadata": {
    "execution": {
     "iopub.execute_input": "2023-02-05T17:52:25.201739Z",
     "iopub.status.busy": "2023-02-05T17:52:25.200968Z",
     "iopub.status.idle": "2023-02-05T17:52:25.205470Z",
     "shell.execute_reply": "2023-02-05T17:52:25.204709Z"
    },
    "papermill": {
     "duration": 0.021888,
     "end_time": "2023-02-05T17:52:25.207610",
     "exception": false,
     "start_time": "2023-02-05T17:52:25.185722",
     "status": "completed"
    },
    "tags": []
   },
   "outputs": [],
   "source": [
    "#y=train_data['target']"
   ]
  },
  {
   "cell_type": "code",
   "execution_count": 36,
   "id": "cfe18e80",
   "metadata": {
    "execution": {
     "iopub.execute_input": "2023-02-05T17:52:25.237630Z",
     "iopub.status.busy": "2023-02-05T17:52:25.236890Z",
     "iopub.status.idle": "2023-02-05T17:52:25.241364Z",
     "shell.execute_reply": "2023-02-05T17:52:25.240584Z"
    },
    "papermill": {
     "duration": 0.021909,
     "end_time": "2023-02-05T17:52:25.243496",
     "exception": false,
     "start_time": "2023-02-05T17:52:25.221587",
     "status": "completed"
    },
    "tags": []
   },
   "outputs": [],
   "source": [
    "#y= "
   ]
  },
  {
   "cell_type": "code",
   "execution_count": 37,
   "id": "1e685446",
   "metadata": {
    "execution": {
     "iopub.execute_input": "2023-02-05T17:52:25.273334Z",
     "iopub.status.busy": "2023-02-05T17:52:25.272591Z",
     "iopub.status.idle": "2023-02-05T17:52:25.277228Z",
     "shell.execute_reply": "2023-02-05T17:52:25.276408Z"
    },
    "papermill": {
     "duration": 0.021918,
     "end_time": "2023-02-05T17:52:25.279301",
     "exception": false,
     "start_time": "2023-02-05T17:52:25.257383",
     "status": "completed"
    },
    "tags": []
   },
   "outputs": [],
   "source": [
    "#from sklearn.model_selection import train_test_split\n",
    "#X_train, X_test, y_train, y_test= train_test_split(vectorized_docs,y, test_size=0.2, random_state=0)"
   ]
  },
  {
   "cell_type": "code",
   "execution_count": null,
   "id": "7fd5fb2f",
   "metadata": {
    "papermill": {
     "duration": 0.016058,
     "end_time": "2023-02-05T17:52:25.309525",
     "exception": false,
     "start_time": "2023-02-05T17:52:25.293467",
     "status": "completed"
    },
    "tags": []
   },
   "outputs": [],
   "source": []
  },
  {
   "cell_type": "markdown",
   "id": "3e83fd37",
   "metadata": {
    "execution": {
     "iopub.status.busy": "2023-02-04T12:53:11.605315Z",
     "iopub.status.idle": "2023-02-04T12:53:11.606228Z",
     "shell.execute_reply": "2023-02-04T12:53:11.605956Z",
     "shell.execute_reply.started": "2023-02-04T12:53:11.605918Z"
    },
    "papermill": {
     "duration": 0.014644,
     "end_time": "2023-02-05T17:52:25.339993",
     "exception": false,
     "start_time": "2023-02-05T17:52:25.325349",
     "status": "completed"
    },
    "tags": []
   },
   "source": [
    "from sklearn.cluster import KMeans\n",
    "\n",
    "#data = list(zip(X_train,  y_train))\n",
    "#kmeans = KMeans(n_clusters=2)\n",
    "kmeans = KMeans(n_clusters=2, random_state=0, )#n_init=\"auto\")#.fit(X_train)\n",
    "#kmeans.fit(import numpy as np \n",
    "#  y_train)#data)\n",
    "#kmeans.labels_x_train"
   ]
  },
  {
   "cell_type": "markdown",
   "id": "1f6c8d20",
   "metadata": {
    "execution": {
     "iopub.status.busy": "2023-02-04T12:53:11.607817Z",
     "iopub.status.idle": "2023-02-04T12:53:11.608721Z",
     "shell.execute_reply": "2023-02-04T12:53:11.608462Z",
     "shell.execute_reply.started": "2023-02-04T12:53:11.608438Z"
    },
    "papermill": {
     "duration": 0.014358,
     "end_time": "2023-02-05T17:52:25.373045",
     "exception": false,
     "start_time": "2023-02-05T17:52:25.358687",
     "status": "completed"
    },
    "tags": []
   },
   "source": [
    "identified_clusters = kmeans.fit_predict(vectorized_docs)\n",
    "identified_clusters"
   ]
  },
  {
   "cell_type": "markdown",
   "id": "33a8ba2f",
   "metadata": {
    "execution": {
     "iopub.status.busy": "2023-02-04T12:53:11.610984Z",
     "iopub.status.idle": "2023-02-04T12:53:11.611582Z",
     "shell.execute_reply": "2023-02-04T12:53:11.611371Z",
     "shell.execute_reply.started": "2023-02-04T12:53:11.611347Z"
    },
    "papermill": {
     "duration": 0.016391,
     "end_time": "2023-02-05T17:52:25.405611",
     "exception": false,
     "start_time": "2023-02-05T17:52:25.389220",
     "status": "completed"
    },
    "tags": []
   },
   "source": [
    "from sklearn.metrics import confusion_matrix,classification_report\n",
    "print(\"ConfusionMatrix\",confusion_matrix(y_test,identified_clusters))\n",
    "print(classification_report(y_test,identified_clusters))"
   ]
  },
  {
   "cell_type": "markdown",
   "id": "9020c7ea",
   "metadata": {
    "papermill": {
     "duration": 0.01373,
     "end_time": "2023-02-05T17:52:25.433395",
     "exception": false,
     "start_time": "2023-02-05T17:52:25.419665",
     "status": "completed"
    },
    "tags": []
   },
   "source": [
    "def mbkmeans_clusters(\n",
    "\tX, \n",
    "    k, \n",
    "    mb, \n",
    "    print_silhouette_values, \n",
    "):\n",
    "    \"\"\"Generate clusters and print Silhouette metrics using MBKmeans\n",
    "\n",
    "    Args:\n",
    "        X: Matrix of features.\n",
    "        k: Number of clusters.\n",
    "        mb: Size of mini-batches.\n",
    "        print_silhouette_values: Print silhouette values per cluster.\n",
    "\n",
    "    Returns:\n",
    "        Trained clustering model and labels based on X.\n",
    "    \"\"\"\n",
    "    km = MiniBatchKMeans(n_clusters=k, batch_size=mb).fit(X)\n",
    "    print(f\"For n_clusters = {k}\")\n",
    "    print(f\"Silhouette coefficient: {silhouette_score(X, km.labels_):0.2f}\")\n",
    "    print(f\"Inertia:{km.inertia_}\")\n",
    "\n",
    "    if print_silhouette_values:\n",
    "        sample_silhouette_values = silhouette_samples(X, km.labels_)\n",
    "        print(f\"Silhouette values:\")\n",
    "        silhouette_values = []\n",
    "        for i in range(k):\n",
    "            cluster_silhouette_values = sample_silhouette_values[km.labels_ == i]\n",
    "            silhouette_values.append(\n",
    "                (\n",
    "                    i,\n",
    "                    cluster_silhouette_values.shape[0],\n",
    "                    cluster_silhouette_values.mean(),\n",
    "                    cluster_silhouette_values.min(),\n",
    "                    cluster_silhouette_values.max(),\n",
    "                )\n",
    "            )\n",
    "        silhouette_values = sorted(\n",
    "            silhouette_values, key=lambda tup: tup[2], reverse=True\n",
    "        )\n",
    "        for s in silhouette_values:\n",
    "            print(\n",
    "                f\"    Cluster {s[0]}: Size:{s[1]} | Avg:{s[2]:.2f} | Min:{s[3]:.2f} | Max: {s[4]:.2f}\"\n",
    "            )\n",
    "    return km, km.labels_"
   ]
  },
  {
   "cell_type": "markdown",
   "id": "b546a714",
   "metadata": {
    "papermill": {
     "duration": 0.013559,
     "end_time": "2023-02-05T17:52:25.460780",
     "exception": false,
     "start_time": "2023-02-05T17:52:25.447221",
     "status": "completed"
    },
    "tags": []
   },
   "source": [
    "clustering, cluster_labels = mbkmeans_clusters(\n",
    "\tX=vectorized_docs,\n",
    "    k=2,# of clusters\n",
    "    mb=500,\n",
    "    print_silhouette_values=True,\n",
    ")\n",
    "df_clusters = pd.DataFrame({\n",
    "    \"text\": docs,\n",
    "    \"tokens\": [\" \".join(text) for text in tokenized_docs],\n",
    "    \"cluster\": cluster_labels\n",
    "})"
   ]
  },
  {
   "cell_type": "markdown",
   "id": "d1cba54c",
   "metadata": {
    "_cell_guid": "b1076dfc-b9ad-4769-8c92-a6c4dae69d19",
    "_uuid": "8f2839f25d086af736a60e9eeb907d3b93b6e0e5",
    "papermill": {
     "duration": 0.013603,
     "end_time": "2023-02-05T17:52:25.488377",
     "exception": false,
     "start_time": "2023-02-05T17:52:25.474774",
     "status": "completed"
    },
    "tags": []
   },
   "source": [
    "# This Python 3 environment comes with many helpful analytics libraries installed\n",
    "# It is defined by the kaggle/python Docker image: https://github.com/kaggle/docker-python\n",
    "# For example, here's several helpful packages to load\n",
    "\n",
    "import numpy as np # linear algebra\n",
    "import pandas as pd # data processing, CSV file I/O (e.g. pd.read_csv)\n",
    "\n",
    "# Input data files are available in the read-only \"../input/\" directory\n",
    "# For example, running this (by clicking run or pressing Shift+Enter) will list all files under the input directory\n",
    "\n",
    "import os\n",
    "for dirname, _, filenames in os.walk('/kaggle/input'):\n",
    "    for filename in filenames:\n",
    "        print(os.path.join(dirname, filename))\n",
    "\n",
    "# You can write up to 20GB to the current directory (/kaggle/working/) that gets preserved as output when you create a version using \"Save & Run All\" \n",
    "# You can also write temporary files to /kaggle/temp/, but they won't be saved outside of the current session"
   ]
  }
 ],
 "metadata": {
  "kernelspec": {
   "display_name": "Python 3",
   "language": "python",
   "name": "python3"
  },
  "language_info": {
   "codemirror_mode": {
    "name": "ipython",
    "version": 3
   },
   "file_extension": ".py",
   "mimetype": "text/x-python",
   "name": "python",
   "nbconvert_exporter": "python",
   "pygments_lexer": "ipython3",
   "version": "3.7.12"
  },
  "papermill": {
   "default_parameters": {},
   "duration": 134.156882,
   "end_time": "2023-02-05T17:52:28.121884",
   "environment_variables": {},
   "exception": null,
   "input_path": "__notebook__.ipynb",
   "output_path": "__notebook__.ipynb",
   "parameters": {},
   "start_time": "2023-02-05T17:50:13.965002",
   "version": "2.3.4"
  }
 },
 "nbformat": 4,
 "nbformat_minor": 5
}
