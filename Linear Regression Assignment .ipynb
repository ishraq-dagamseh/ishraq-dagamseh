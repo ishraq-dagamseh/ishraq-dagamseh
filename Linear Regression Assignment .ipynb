{
 "cells": [
  {
   "cell_type": "markdown",
   "id": "096071b3",
   "metadata": {},
   "source": [
    "# Linear Regression Assignment \n",
    "----"
   ]
  },
  {
   "cell_type": "markdown",
   "id": "4a7419d1",
   "metadata": {},
   "source": [
    "## Problem 1:  Linear Regression\n",
    "---\n",
    "\n",
    "Assume that during a three hour period spent outside a person recorded the temperature and their water consumption. The experiment was conducted on 7 randomly selected days during the summer.\n",
    "\n",
    "**Here is the data:**\n",
    "\n",
    "Day Temp: 98,83,95,74,90,84,82.\n",
    "\n",
    "Water consumed oz: 48,27,48,16,32,25,20.\n",
    "\n",
    "- Calculate the linear regression equation .\n",
    "\n",
    "- Does it have positive or negative correlation?"
   ]
  },
  {
   "cell_type": "code",
   "execution_count": null,
   "id": "412981d5",
   "metadata": {},
   "outputs": [],
   "source": []
  },
  {
   "cell_type": "markdown",
   "id": "6ea9afef",
   "metadata": {},
   "source": [
    "## Problem 2:  Linear Regression\n",
    "---\n",
    "We want to predict the CO2 emission of a car , A csv file contains the data is provided **`cars.csv`** : \n",
    "- Clean the data and explain what you have done.\n",
    "- Build a linear regression model on this data.\n",
    "- Predict the CO2 emission of a car where the weight is 2555, and the volume is 1300cm3.\n",
    "- Do we care about the car brand while using this model ? and why ?."
   ]
  },
  {
   "cell_type": "code",
   "execution_count": null,
   "id": "45d00cc4",
   "metadata": {},
   "outputs": [],
   "source": []
  }
 ],
 "metadata": {
  "kernelspec": {
   "display_name": "Python 3 (ipykernel)",
   "language": "python",
   "name": "python3"
  },
  "language_info": {
   "codemirror_mode": {
    "name": "ipython",
    "version": 3
   },
   "file_extension": ".py",
   "mimetype": "text/x-python",
   "name": "python",
   "nbconvert_exporter": "python",
   "pygments_lexer": "ipython3",
   "version": "3.9.12"
  }
 },
 "nbformat": 4,
 "nbformat_minor": 5
}
