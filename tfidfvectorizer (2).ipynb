{
 "cells": [
  {
   "cell_type": "code",
   "execution_count": 1,
   "id": "f9197e41",
   "metadata": {
    "_cell_guid": "b1076dfc-b9ad-4769-8c92-a6c4dae69d19",
    "_uuid": "8f2839f25d086af736a60e9eeb907d3b93b6e0e5",
    "execution": {
     "iopub.execute_input": "2023-02-04T11:55:31.907591Z",
     "iopub.status.busy": "2023-02-04T11:55:31.906106Z",
     "iopub.status.idle": "2023-02-04T11:55:31.923629Z",
     "shell.execute_reply": "2023-02-04T11:55:31.922321Z"
    },
    "papermill": {
     "duration": 0.035132,
     "end_time": "2023-02-04T11:55:31.926827",
     "exception": false,
     "start_time": "2023-02-04T11:55:31.891695",
     "status": "completed"
    },
    "tags": []
   },
   "outputs": [
    {
     "name": "stdout",
     "output_type": "stream",
     "text": [
      "/kaggle/input/TSABTAE/sample.csv\n",
      "/kaggle/input/TSABTAE/test1.csv\n",
      "/kaggle/input/TSABTAE/train1.csv\n"
     ]
    }
   ],
   "source": [
    "# This Python 3 environment comes with many helpful analytics libraries installed\n",
    "# It is defined by the kaggle/python Docker image: https://github.com/kaggle/docker-python\n",
    "# For example, here's several helpful packages to load\n",
    "\n",
    "import numpy as np # linear algebra\n",
    "import pandas as pd # data processing, CSV file I/O (e.g. pd.read_csv)\n",
    "\n",
    "# Input data files are available in the read-only \"../input/\" directory\n",
    "# For example, running this (by clicking run or pressing Shift+Enter) will list all files under the input directory\n",
    "\n",
    "import os\n",
    "for dirname, _, filenames in os.walk('/kaggle/input'):\n",
    "    for filename in filenames:\n",
    "        print(os.path.join(dirname, filename))\n",
    "\n",
    "# You can write up to 20GB to the current directory (/kaggle/working/) that gets preserved as output when you create a version using \"Save & Run All\" \n",
    "# You can also write temporary files to /kaggle/temp/, but they won't be saved outside of the current session"
   ]
  },
  {
   "cell_type": "markdown",
   "id": "1a176e32",
   "metadata": {
    "papermill": {
     "duration": 0.010696,
     "end_time": "2023-02-04T11:55:31.948737",
     "exception": false,
     "start_time": "2023-02-04T11:55:31.938041",
     "status": "completed"
    },
    "tags": []
   },
   "source": [
    "# Reference: https://scikit-learn.org/stable/auto_examples/text/plot_document_clustering.html#sphx-glr-auto-examples-text-plot-document-clustering-py"
   ]
  },
  {
   "cell_type": "code",
   "execution_count": 2,
   "id": "7d16eba6",
   "metadata": {
    "execution": {
     "iopub.execute_input": "2023-02-04T11:55:31.973683Z",
     "iopub.status.busy": "2023-02-04T11:55:31.972291Z",
     "iopub.status.idle": "2023-02-04T11:55:40.394849Z",
     "shell.execute_reply": "2023-02-04T11:55:40.392716Z"
    },
    "papermill": {
     "duration": 8.438395,
     "end_time": "2023-02-04T11:55:40.398156",
     "exception": false,
     "start_time": "2023-02-04T11:55:31.959761",
     "status": "completed"
    },
    "tags": []
   },
   "outputs": [],
   "source": [
    "import numpy as np \n",
    "import pandas as pd\n",
    "import matplotlib.pyplot as plt\n",
    "# read data \n",
    "train_data= pd.read_csv(\"/kaggle/input/TSABTAE/train1.csv\")#, delimiter ='\\t')\n",
    "test_data= pd.read_csv(\"/kaggle/input/TSABTAE/test1.csv\",)# delimiter ='\\t')"
   ]
  },
  {
   "cell_type": "code",
   "execution_count": null,
   "id": "3d6a044a",
   "metadata": {
    "papermill": {
     "duration": 0.013026,
     "end_time": "2023-02-04T11:55:40.424443",
     "exception": false,
     "start_time": "2023-02-04T11:55:40.411417",
     "status": "completed"
    },
    "tags": []
   },
   "outputs": [],
   "source": []
  },
  {
   "cell_type": "markdown",
   "id": "584a3260",
   "metadata": {
    "papermill": {
     "duration": 0.0105,
     "end_time": "2023-02-04T11:55:40.449210",
     "exception": false,
     "start_time": "2023-02-04T11:55:40.438710",
     "status": "completed"
    },
    "tags": []
   },
   "source": [
    "Source: https://scikit-learn.org/stable/auto_examples/text/plot_document_clustering.html#sphx-glr-auto-examples-text-plot-document-clustering-py"
   ]
  },
  {
   "cell_type": "code",
   "execution_count": 3,
   "id": "3d4f1028",
   "metadata": {
    "execution": {
     "iopub.execute_input": "2023-02-04T11:55:40.473595Z",
     "iopub.status.busy": "2023-02-04T11:55:40.473162Z",
     "iopub.status.idle": "2023-02-04T11:55:41.666401Z",
     "shell.execute_reply": "2023-02-04T11:55:41.665387Z"
    },
    "papermill": {
     "duration": 1.209909,
     "end_time": "2023-02-04T11:55:41.670346",
     "exception": false,
     "start_time": "2023-02-04T11:55:40.460437",
     "status": "completed"
    },
    "tags": []
   },
   "outputs": [],
   "source": [
    "from collections import defaultdict\n",
    "from sklearn import metrics\n",
    "from time import time\n",
    "\n",
    "evaluations = []\n",
    "evaluations_std = []\n",
    "\n",
    "\n",
    "def fit_and_evaluate(km, X, name=None, n_runs=5):\n",
    "    name = km.__class__.__name__ if name is None else name\n",
    "\n",
    "    train_times = []\n",
    "    scores = defaultdict(list)\n",
    "    for seed in range(n_runs):\n",
    "        km.set_params(random_state=seed)\n",
    "        t0 = time()\n",
    "        km.fit(X)\n",
    "        train_times.append(time() - t0)\n",
    "        scores[\"Homogeneity\"].append(metrics.homogeneity_score(y_train, km.labels_))\n",
    "        scores[\"Completeness\"].append(metrics.completeness_score(y_train, km.labels_))\n",
    "        scores[\"V-measure\"].append(metrics.v_measure_score(y_train, km.labels_))\n",
    "        scores[\"Adjusted Rand-Index\"].append(\n",
    "            metrics.adjusted_rand_score(y_train, km.labels_)\n",
    "        )\n",
    "        scores[\"Silhouette Coefficient\"].append(\n",
    "            metrics.silhouette_score(X, km.labels_, sample_size=2000)\n",
    "        )\n",
    "    train_times = np.asarray(train_times)\n",
    "\n",
    "    print(f\"clustering done in {train_times.mean():.2f} ± {train_times.std():.2f} s \")\n",
    "    evaluation = {\n",
    "        \"estimator\": name,\n",
    "        \"train_time\": train_times.mean(),\n",
    "    }\n",
    "    evaluation_std = {\n",
    "        \"estimator\": name,\n",
    "        \"train_time\": train_times.std(),\n",
    "    }\n",
    "    for score_name, score_values in scores.items():\n",
    "        mean_score, std_score = np.mean(score_values), np.std(score_values)\n",
    "        print(f\"{score_name}: {mean_score:.3f} ± {std_score:.3f}\")\n",
    "        evaluation[score_name] = mean_score\n",
    "        evaluation_std[score_name] = std_score\n",
    "    evaluations.append(evaluation)\n",
    "    evaluations_std.append(evaluation_std)"
   ]
  },
  {
   "cell_type": "markdown",
   "id": "4a26b7d3",
   "metadata": {
    "papermill": {
     "duration": 0.013128,
     "end_time": "2023-02-04T11:55:41.695794",
     "exception": false,
     "start_time": "2023-02-04T11:55:41.682666",
     "status": "completed"
    },
    "tags": []
   },
   "source": [
    "# Feature Extraction using TfidfVectorizer"
   ]
  },
  {
   "cell_type": "code",
   "execution_count": 4,
   "id": "dae34d11",
   "metadata": {
    "execution": {
     "iopub.execute_input": "2023-02-04T11:55:41.720743Z",
     "iopub.status.busy": "2023-02-04T11:55:41.720251Z",
     "iopub.status.idle": "2023-02-04T11:55:41.733350Z",
     "shell.execute_reply": "2023-02-04T11:55:41.731857Z"
    },
    "papermill": {
     "duration": 0.031241,
     "end_time": "2023-02-04T11:55:41.738338",
     "exception": false,
     "start_time": "2023-02-04T11:55:41.707097",
     "status": "completed"
    },
    "tags": []
   },
   "outputs": [],
   "source": [
    "X=train_data['text']\n",
    "y=train_data['target']"
   ]
  },
  {
   "cell_type": "code",
   "execution_count": 5,
   "id": "7c91390d",
   "metadata": {
    "execution": {
     "iopub.execute_input": "2023-02-04T11:55:41.768505Z",
     "iopub.status.busy": "2023-02-04T11:55:41.767943Z",
     "iopub.status.idle": "2023-02-04T11:55:42.167496Z",
     "shell.execute_reply": "2023-02-04T11:55:42.166123Z"
    },
    "papermill": {
     "duration": 0.418499,
     "end_time": "2023-02-04T11:55:42.170899",
     "exception": false,
     "start_time": "2023-02-04T11:55:41.752400",
     "status": "completed"
    },
    "tags": []
   },
   "outputs": [],
   "source": [
    "from sklearn.model_selection import train_test_split\n",
    "X_train, X_test, y_train, y_test= train_test_split(X,y, test_size=0.2, random_state=0)"
   ]
  },
  {
   "cell_type": "code",
   "execution_count": 6,
   "id": "737deeaf",
   "metadata": {
    "execution": {
     "iopub.execute_input": "2023-02-04T11:55:42.195450Z",
     "iopub.status.busy": "2023-02-04T11:55:42.194882Z",
     "iopub.status.idle": "2023-02-04T11:55:56.384957Z",
     "shell.execute_reply": "2023-02-04T11:55:56.383286Z"
    },
    "papermill": {
     "duration": 14.206702,
     "end_time": "2023-02-04T11:55:56.388918",
     "exception": false,
     "start_time": "2023-02-04T11:55:42.182216",
     "status": "completed"
    },
    "tags": []
   },
   "outputs": [
    {
     "name": "stdout",
     "output_type": "stream",
     "text": [
      "vectorization done in 14.168 s\n",
      "n_samples: 819199, n_features: 31256\n"
     ]
    }
   ],
   "source": [
    "from sklearn.feature_extraction.text import TfidfVectorizer\n",
    "\n",
    "vectorizer = TfidfVectorizer(\n",
    "    max_df=0.8,\n",
    "    min_df=8,\n",
    "    stop_words=\"english\",\n",
    ")\n",
    "t0 = time()\n",
    "X_tfidf = vectorizer.fit_transform(np.array(X_train).ravel())\n",
    "\n",
    "print(f\"vectorization done in {time() - t0:.3f} s\")\n",
    "print(f\"n_samples: {X_tfidf.shape[0]}, n_features: {X_tfidf.shape[1]}\")"
   ]
  },
  {
   "cell_type": "code",
   "execution_count": 7,
   "id": "28b6e19d",
   "metadata": {
    "execution": {
     "iopub.execute_input": "2023-02-04T11:55:56.414293Z",
     "iopub.status.busy": "2023-02-04T11:55:56.413812Z",
     "iopub.status.idle": "2023-02-04T11:56:28.531606Z",
     "shell.execute_reply": "2023-02-04T11:56:28.530022Z"
    },
    "papermill": {
     "duration": 32.145744,
     "end_time": "2023-02-04T11:56:28.546226",
     "exception": false,
     "start_time": "2023-02-04T11:55:56.400482",
     "status": "completed"
    },
    "tags": []
   },
   "outputs": [
    {
     "data": {
      "text/plain": [
       "array([0, 0, 0, ..., 0, 0, 0], dtype=int32)"
      ]
     },
     "execution_count": 7,
     "metadata": {},
     "output_type": "execute_result"
    }
   ],
   "source": [
    "import matplotlib.pyplot as plt\n",
    "\n",
    "from sklearn.cluster import KMeans\n",
    "\n",
    "#data = list(zip(X_train,  y_train))\n",
    "#kmeans = KMeans(n_clusters=2)\n",
    "kmeans = KMeans(n_clusters=2, random_state=0, )#n_init=\"auto\")#.fit(X_train)\n",
    "kmeans.fit(X_tfidf)#  y_train)#data)\n",
    "kmeans.labels_"
   ]
  },
  {
   "cell_type": "code",
   "execution_count": 8,
   "id": "e5d9abec",
   "metadata": {
    "execution": {
     "iopub.execute_input": "2023-02-04T11:56:28.573173Z",
     "iopub.status.busy": "2023-02-04T11:56:28.572663Z",
     "iopub.status.idle": "2023-02-04T11:56:32.116048Z",
     "shell.execute_reply": "2023-02-04T11:56:32.114354Z"
    },
    "papermill": {
     "duration": 3.560515,
     "end_time": "2023-02-04T11:56:32.119214",
     "exception": false,
     "start_time": "2023-02-04T11:56:28.558699",
     "status": "completed"
    },
    "tags": []
   },
   "outputs": [
    {
     "name": "stdout",
     "output_type": "stream",
     "text": [
      "vectorization done in 3.481 s\n",
      "n_samples: 204800, n_features: 12052\n"
     ]
    }
   ],
   "source": [
    "from sklearn.feature_extraction.text import TfidfVectorizer\n",
    "\n",
    "vectorizer = TfidfVectorizer(\n",
    "    max_df=0.8,\n",
    "    min_df=8,\n",
    "    stop_words=\"english\",\n",
    ")\n",
    "t0 = time()\n",
    "X_test = vectorizer.fit_transform(np.array(X_test).ravel())\n",
    "\n",
    "print(f\"vectorization done in {time() - t0:.3f} s\")\n",
    "print(f\"n_samples: {X_test.shape[0]}, n_features: {X_test.shape[1]}\")"
   ]
  },
  {
   "cell_type": "code",
   "execution_count": 9,
   "id": "76d29ff5",
   "metadata": {
    "execution": {
     "iopub.execute_input": "2023-02-04T11:56:32.144964Z",
     "iopub.status.busy": "2023-02-04T11:56:32.144449Z",
     "iopub.status.idle": "2023-02-04T11:56:37.732900Z",
     "shell.execute_reply": "2023-02-04T11:56:37.731823Z"
    },
    "papermill": {
     "duration": 5.604578,
     "end_time": "2023-02-04T11:56:37.735470",
     "exception": false,
     "start_time": "2023-02-04T11:56:32.130892",
     "status": "completed"
    },
    "tags": []
   },
   "outputs": [
    {
     "data": {
      "text/plain": [
       "array([0, 0, 0, ..., 0, 0, 0], dtype=int32)"
      ]
     },
     "execution_count": 9,
     "metadata": {},
     "output_type": "execute_result"
    }
   ],
   "source": [
    "identified_clusters = kmeans.fit_predict(X_test)\n",
    "identified_clusters"
   ]
  },
  {
   "cell_type": "code",
   "execution_count": 10,
   "id": "cf8962bc",
   "metadata": {
    "execution": {
     "iopub.execute_input": "2023-02-04T11:56:37.761725Z",
     "iopub.status.busy": "2023-02-04T11:56:37.760966Z",
     "iopub.status.idle": "2023-02-04T11:56:38.207751Z",
     "shell.execute_reply": "2023-02-04T11:56:38.206402Z"
    },
    "papermill": {
     "duration": 0.464143,
     "end_time": "2023-02-04T11:56:38.211336",
     "exception": false,
     "start_time": "2023-02-04T11:56:37.747193",
     "status": "completed"
    },
    "tags": []
   },
   "outputs": [
    {
     "name": "stdout",
     "output_type": "stream",
     "text": [
      "ConfusionMatrix [[96457  5731]\n",
      " [90075 12537]]\n",
      "              precision    recall  f1-score   support\n",
      "\n",
      "           0       0.52      0.94      0.67    102188\n",
      "           1       0.69      0.12      0.21    102612\n",
      "\n",
      "    accuracy                           0.53    204800\n",
      "   macro avg       0.60      0.53      0.44    204800\n",
      "weighted avg       0.60      0.53      0.44    204800\n",
      "\n"
     ]
    }
   ],
   "source": [
    "from sklearn.metrics import confusion_matrix,classification_report\n",
    "print(\"ConfusionMatrix\",confusion_matrix(y_test,identified_clusters))\n",
    "print(classification_report(y_test,identified_clusters))\n",
    "#ConfusionMatrix"
   ]
  },
  {
   "cell_type": "markdown",
   "id": "34a68e48",
   "metadata": {
    "papermill": {
     "duration": 0.011377,
     "end_time": "2023-02-04T11:56:38.235322",
     "exception": false,
     "start_time": "2023-02-04T11:56:38.223945",
     "status": "completed"
    },
    "tags": []
   },
   "source": [
    "# MininBatch"
   ]
  },
  {
   "cell_type": "code",
   "execution_count": 11,
   "id": "20e6be82",
   "metadata": {
    "execution": {
     "iopub.execute_input": "2023-02-04T11:56:38.261364Z",
     "iopub.status.busy": "2023-02-04T11:56:38.260072Z",
     "iopub.status.idle": "2023-02-04T11:57:41.738727Z",
     "shell.execute_reply": "2023-02-04T11:57:41.736958Z"
    },
    "papermill": {
     "duration": 63.495511,
     "end_time": "2023-02-04T11:57:41.742405",
     "exception": false,
     "start_time": "2023-02-04T11:56:38.246894",
     "status": "completed"
    },
    "tags": []
   },
   "outputs": [],
   "source": [
    "from sklearn.cluster import MiniBatchKMeans\n",
    "MiniBatchkmeans = MiniBatchKMeans(n_clusters=2,\n",
    "                          random_state=0,\n",
    "                          batch_size=10,#100\n",
    "                          ).fit(X_tfidf)"
   ]
  },
  {
   "cell_type": "code",
   "execution_count": 12,
   "id": "d44b3dc5",
   "metadata": {
    "execution": {
     "iopub.execute_input": "2023-02-04T11:57:41.771169Z",
     "iopub.status.busy": "2023-02-04T11:57:41.770647Z",
     "iopub.status.idle": "2023-02-04T11:57:54.113782Z",
     "shell.execute_reply": "2023-02-04T11:57:54.112470Z"
    },
    "papermill": {
     "duration": 12.360248,
     "end_time": "2023-02-04T11:57:54.117092",
     "exception": false,
     "start_time": "2023-02-04T11:57:41.756844",
     "status": "completed"
    },
    "tags": []
   },
   "outputs": [],
   "source": [
    "pred=MiniBatchkmeans.fit_predict(X_test)"
   ]
  },
  {
   "cell_type": "code",
   "execution_count": 13,
   "id": "4cfb4a76",
   "metadata": {
    "execution": {
     "iopub.execute_input": "2023-02-04T11:57:54.145417Z",
     "iopub.status.busy": "2023-02-04T11:57:54.144466Z",
     "iopub.status.idle": "2023-02-04T11:57:54.560493Z",
     "shell.execute_reply": "2023-02-04T11:57:54.559005Z"
    },
    "papermill": {
     "duration": 0.433669,
     "end_time": "2023-02-04T11:57:54.564695",
     "exception": false,
     "start_time": "2023-02-04T11:57:54.131026",
     "status": "completed"
    },
    "tags": []
   },
   "outputs": [
    {
     "name": "stdout",
     "output_type": "stream",
     "text": [
      "ConfusionMatrix [[102178     10]\n",
      " [102607      5]]\n",
      "              precision    recall  f1-score   support\n",
      "\n",
      "           0       0.50      1.00      0.67    102188\n",
      "           1       0.33      0.00      0.00    102612\n",
      "\n",
      "    accuracy                           0.50    204800\n",
      "   macro avg       0.42      0.50      0.33    204800\n",
      "weighted avg       0.42      0.50      0.33    204800\n",
      "\n"
     ]
    }
   ],
   "source": [
    "from sklearn.metrics import confusion_matrix,classification_report\n",
    "print(\"ConfusionMatrix\",confusion_matrix(y_test,pred))\n",
    "print(classification_report(y_test,pred))"
   ]
  },
  {
   "cell_type": "markdown",
   "id": "c196e1f6",
   "metadata": {
    "papermill": {
     "duration": 0.011257,
     "end_time": "2023-02-04T11:57:54.588460",
     "exception": false,
     "start_time": "2023-02-04T11:57:54.577203",
     "status": "completed"
    },
    "tags": []
   },
   "source": [
    "# Fuzzy Cmean"
   ]
  },
  {
   "cell_type": "code",
   "execution_count": 14,
   "id": "e8a495ca",
   "metadata": {
    "execution": {
     "iopub.execute_input": "2023-02-04T11:57:54.614663Z",
     "iopub.status.busy": "2023-02-04T11:57:54.613530Z",
     "iopub.status.idle": "2023-02-04T11:58:11.480057Z",
     "shell.execute_reply": "2023-02-04T11:58:11.478056Z"
    },
    "papermill": {
     "duration": 16.883121,
     "end_time": "2023-02-04T11:58:11.483215",
     "exception": false,
     "start_time": "2023-02-04T11:57:54.600094",
     "status": "completed"
    },
    "tags": []
   },
   "outputs": [
    {
     "name": "stdout",
     "output_type": "stream",
     "text": [
      "Collecting fuzzy-c-means\r\n",
      "  Downloading fuzzy_c_means-1.6.3-py3-none-any.whl (9.1 kB)\r\n",
      "Collecting tabulate<0.9.0,>=0.8.9\r\n",
      "  Downloading tabulate-0.8.10-py3-none-any.whl (29 kB)\r\n",
      "Collecting typer<0.4.0,>=0.3.2\r\n",
      "  Downloading typer-0.3.2-py3-none-any.whl (21 kB)\r\n",
      "Requirement already satisfied: numpy<2.0.0,>=1.21.1 in /opt/conda/lib/python3.7/site-packages (from fuzzy-c-means) (1.21.6)\r\n",
      "Requirement already satisfied: pydantic<2.0.0,>=1.8.2 in /opt/conda/lib/python3.7/site-packages (from fuzzy-c-means) (1.8.2)\r\n",
      "Requirement already satisfied: typing-extensions>=3.7.4.3 in /opt/conda/lib/python3.7/site-packages (from pydantic<2.0.0,>=1.8.2->fuzzy-c-means) (4.1.1)\r\n",
      "Collecting click<7.2.0,>=7.1.1\r\n",
      "  Downloading click-7.1.2-py2.py3-none-any.whl (82 kB)\r\n",
      "\u001b[2K     \u001b[90m━━━━━━━━━━━━━━━━━━━━━━━━━━━━━━━━━━━━━━━\u001b[0m \u001b[32m82.8/82.8 kB\u001b[0m \u001b[31m391.3 kB/s\u001b[0m eta \u001b[36m0:00:00\u001b[0m\r\n",
      "\u001b[?25hInstalling collected packages: tabulate, click, typer, fuzzy-c-means\r\n",
      "  Attempting uninstall: tabulate\r\n",
      "    Found existing installation: tabulate 0.9.0\r\n",
      "    Uninstalling tabulate-0.9.0:\r\n",
      "      Successfully uninstalled tabulate-0.9.0\r\n",
      "  Attempting uninstall: click\r\n",
      "    Found existing installation: click 8.1.3\r\n",
      "    Uninstalling click-8.1.3:\r\n",
      "      Successfully uninstalled click-8.1.3\r\n",
      "  Attempting uninstall: typer\r\n",
      "    Found existing installation: typer 0.4.2\r\n",
      "    Uninstalling typer-0.4.2:\r\n",
      "      Successfully uninstalled typer-0.4.2\r\n",
      "\u001b[31mERROR: pip's dependency resolver does not currently take into account all the packages that are installed. This behaviour is the source of the following dependency conflicts.\r\n",
      "flask 2.2.2 requires click>=8.0, but you have click 7.1.2 which is incompatible.\r\n",
      "black 22.6.0 requires click>=8.0.0, but you have click 7.1.2 which is incompatible.\r\n",
      "allennlp 2.10.1 requires typer>=0.4.1, but you have typer 0.3.2 which is incompatible.\u001b[0m\u001b[31m\r\n",
      "\u001b[0mSuccessfully installed click-7.1.2 fuzzy-c-means-1.6.3 tabulate-0.8.10 typer-0.3.2\r\n",
      "\u001b[33mWARNING: Running pip as the 'root' user can result in broken permissions and conflicting behaviour with the system package manager. It is recommended to use a virtual environment instead: https://pip.pypa.io/warnings/venv\u001b[0m\u001b[33m\r\n",
      "\u001b[0mNote: you may need to restart the kernel to use updated packages.\n"
     ]
    }
   ],
   "source": [
    "pip install fuzzy-c-means"
   ]
  },
  {
   "cell_type": "markdown",
   "id": "ab8b9607",
   "metadata": {
    "execution": {
     "iopub.execute_input": "2023-02-04T10:31:55.907713Z",
     "iopub.status.busy": "2023-02-04T10:31:55.906458Z",
     "iopub.status.idle": "2023-02-04T10:31:56.039076Z",
     "shell.execute_reply": "2023-02-04T10:31:56.037680Z",
     "shell.execute_reply.started": "2023-02-04T10:31:55.907662Z"
    },
    "papermill": {
     "duration": 0.012729,
     "end_time": "2023-02-04T11:58:11.509540",
     "exception": false,
     "start_time": "2023-02-04T11:58:11.496811",
     "status": "completed"
    },
    "tags": []
   },
   "source": [
    "import numpy as np\n",
    "from fcmeans import FCM\n",
    "my_model = FCM(n_clusters=2) # we use two cluster as an example\n",
    "my_model.fit(X_tfidf) ## X, numpy array. rows:samples columns:features"
   ]
  },
  {
   "cell_type": "markdown",
   "id": "424a2a38",
   "metadata": {
    "execution": {
     "iopub.status.busy": "2023-02-04T10:26:09.030894Z",
     "iopub.status.idle": "2023-02-04T10:26:09.031337Z",
     "shell.execute_reply": "2023-02-04T10:26:09.031153Z",
     "shell.execute_reply.started": "2023-02-04T10:26:09.031133Z"
    },
    "papermill": {
     "duration": 0.01301,
     "end_time": "2023-02-04T11:58:11.535599",
     "exception": false,
     "start_time": "2023-02-04T11:58:11.522589",
     "status": "completed"
    },
    "tags": []
   },
   "source": [
    "centers = my_model.centers\n",
    "labels = my_model.fit_predict(X_test)"
   ]
  },
  {
   "cell_type": "markdown",
   "id": "78e3a045",
   "metadata": {
    "execution": {
     "iopub.status.busy": "2023-02-04T10:26:09.033329Z",
     "iopub.status.idle": "2023-02-04T10:26:09.033795Z",
     "shell.execute_reply": "2023-02-04T10:26:09.033601Z",
     "shell.execute_reply.started": "2023-02-04T10:26:09.033582Z"
    },
    "papermill": {
     "duration": 0.012917,
     "end_time": "2023-02-04T11:58:11.561476",
     "exception": false,
     "start_time": "2023-02-04T11:58:11.548559",
     "status": "completed"
    },
    "tags": []
   },
   "source": [
    "from sklearn.metrics import confusion_matrix,classification_report\n",
    "print(\"ConfusionMatrix\",confusion_matrix(y_test,labels))\n",
    "print(classification_report(y_test,labels))"
   ]
  },
  {
   "cell_type": "code",
   "execution_count": 15,
   "id": "12ff645b",
   "metadata": {
    "execution": {
     "iopub.execute_input": "2023-02-04T11:58:11.591042Z",
     "iopub.status.busy": "2023-02-04T11:58:11.589360Z",
     "iopub.status.idle": "2023-02-04T11:58:11.595667Z",
     "shell.execute_reply": "2023-02-04T11:58:11.594631Z"
    },
    "papermill": {
     "duration": 0.023539,
     "end_time": "2023-02-04T11:58:11.598171",
     "exception": false,
     "start_time": "2023-02-04T11:58:11.574632",
     "status": "completed"
    },
    "tags": []
   },
   "outputs": [],
   "source": [
    "#X_tfidf_array = vectorizer.fit_transform(X_train).toarray()\n"
   ]
  },
  {
   "cell_type": "code",
   "execution_count": 16,
   "id": "b0d71675",
   "metadata": {
    "execution": {
     "iopub.execute_input": "2023-02-04T11:58:11.629730Z",
     "iopub.status.busy": "2023-02-04T11:58:11.627900Z",
     "iopub.status.idle": "2023-02-04T11:58:11.635270Z",
     "shell.execute_reply": "2023-02-04T11:58:11.633741Z"
    },
    "papermill": {
     "duration": 0.027278,
     "end_time": "2023-02-04T11:58:11.638740",
     "exception": false,
     "start_time": "2023-02-04T11:58:11.611462",
     "status": "completed"
    },
    "tags": []
   },
   "outputs": [],
   "source": [
    "#X_test_array=vectorizer.fit_transform(X_test).toarray()"
   ]
  },
  {
   "cell_type": "code",
   "execution_count": 17,
   "id": "b248c1fb",
   "metadata": {
    "execution": {
     "iopub.execute_input": "2023-02-04T11:58:11.668588Z",
     "iopub.status.busy": "2023-02-04T11:58:11.668096Z",
     "iopub.status.idle": "2023-02-04T11:58:11.672855Z",
     "shell.execute_reply": "2023-02-04T11:58:11.671663Z"
    },
    "papermill": {
     "duration": 0.022467,
     "end_time": "2023-02-04T11:58:11.675432",
     "exception": false,
     "start_time": "2023-02-04T11:58:11.652965",
     "status": "completed"
    },
    "tags": []
   },
   "outputs": [],
   "source": [
    "#from sklearn.cluster import AgglomerativeClustering\n",
    "#model = AgglomerativeClustering(n_clusters=2).fit(X_tfidf_array)\n",
    "# fit model and predict clusters\n",
    "\n",
    "#yhat = model.fit_predict(X_test)"
   ]
  },
  {
   "cell_type": "code",
   "execution_count": 18,
   "id": "42772cf9",
   "metadata": {
    "execution": {
     "iopub.execute_input": "2023-02-04T11:58:11.704150Z",
     "iopub.status.busy": "2023-02-04T11:58:11.703633Z",
     "iopub.status.idle": "2023-02-04T11:58:11.709089Z",
     "shell.execute_reply": "2023-02-04T11:58:11.707777Z"
    },
    "papermill": {
     "duration": 0.02272,
     "end_time": "2023-02-04T11:58:11.711522",
     "exception": false,
     "start_time": "2023-02-04T11:58:11.688802",
     "status": "completed"
    },
    "tags": []
   },
   "outputs": [],
   "source": [
    "#yhat = model.fit_predict(X_test_array)"
   ]
  },
  {
   "cell_type": "code",
   "execution_count": 19,
   "id": "c12f6fb7",
   "metadata": {
    "execution": {
     "iopub.execute_input": "2023-02-04T11:58:11.740401Z",
     "iopub.status.busy": "2023-02-04T11:58:11.739850Z",
     "iopub.status.idle": "2023-02-04T11:58:11.745289Z",
     "shell.execute_reply": "2023-02-04T11:58:11.744025Z"
    },
    "papermill": {
     "duration": 0.023142,
     "end_time": "2023-02-04T11:58:11.747986",
     "exception": false,
     "start_time": "2023-02-04T11:58:11.724844",
     "status": "completed"
    },
    "tags": []
   },
   "outputs": [],
   "source": [
    "#from sklearn.metrics import confusion_matrix,classification_report\n",
    "#print(\"ConfusionMatrix\",confusion_matrix(y_test,yhat))\n",
    "#print(classification_report(y_test,yhat))"
   ]
  },
  {
   "cell_type": "markdown",
   "id": "9b872fb0",
   "metadata": {
    "execution": {
     "iopub.execute_input": "2023-02-04T11:25:44.851814Z",
     "iopub.status.busy": "2023-02-04T11:25:44.851210Z"
    },
    "papermill": {
     "duration": 0.012665,
     "end_time": "2023-02-04T11:58:11.774231",
     "exception": false,
     "start_time": "2023-02-04T11:58:11.761566",
     "status": "completed"
    },
    "tags": []
   },
   "source": [
    "1. from sklearn.cluster import Birch\n",
    "model2 = Birch(threshold=0.01, n_clusters=2)\n",
    "# fit the model\n",
    "model2.fit(X_tfidf)\n",
    "# assign a cluster to each example\n",
    "yhat2 = model2.fit_predict(X_test)"
   ]
  },
  {
   "cell_type": "markdown",
   "id": "e5b4c846",
   "metadata": {
    "execution": {
     "iopub.status.busy": "2023-02-04T11:22:02.314429Z",
     "iopub.status.idle": "2023-02-04T11:22:02.314885Z",
     "shell.execute_reply": "2023-02-04T11:22:02.314705Z",
     "shell.execute_reply.started": "2023-02-04T11:22:02.314686Z"
    },
    "papermill": {
     "duration": 0.01292,
     "end_time": "2023-02-04T11:58:11.800500",
     "exception": false,
     "start_time": "2023-02-04T11:58:11.787580",
     "status": "completed"
    },
    "tags": []
   },
   "source": [
    "from sklearn.metrics import confusion_matrix,classification_report\n",
    "print(\"ConfusionMatrix\",confusion_matrix(y_test,yhat2))\n",
    "print(classification_report(y_test,yhat2))"
   ]
  },
  {
   "cell_type": "markdown",
   "id": "55afcaa2",
   "metadata": {
    "papermill": {
     "duration": 0.012843,
     "end_time": "2023-02-04T11:58:11.826649",
     "exception": false,
     "start_time": "2023-02-04T11:58:11.813806",
     "status": "completed"
    },
    "tags": []
   },
   "source": [
    "# origional test"
   ]
  },
  {
   "cell_type": "code",
   "execution_count": 20,
   "id": "31fdf23b",
   "metadata": {
    "execution": {
     "iopub.execute_input": "2023-02-04T11:58:11.855543Z",
     "iopub.status.busy": "2023-02-04T11:58:11.854863Z",
     "iopub.status.idle": "2023-02-04T11:58:16.072234Z",
     "shell.execute_reply": "2023-02-04T11:58:16.070697Z"
    },
    "papermill": {
     "duration": 4.236378,
     "end_time": "2023-02-04T11:58:16.076225",
     "exception": false,
     "start_time": "2023-02-04T11:58:11.839847",
     "status": "completed"
    },
    "tags": []
   },
   "outputs": [
    {
     "name": "stdout",
     "output_type": "stream",
     "text": [
      "vectorization done in 4.186 s\n",
      "n_samples: 256000, n_features: 14006\n"
     ]
    }
   ],
   "source": [
    "\n",
    "vectorizer = TfidfVectorizer(\n",
    "    max_df=0.8,# from 0.5\n",
    "    min_df=8,# from 5\n",
    "    stop_words=\"english\",\n",
    ")\n",
    "t0 = time()\n",
    "X_test2 = vectorizer.fit_transform(np.array(test_data['text']).ravel())\n",
    "\n",
    "print(f\"vectorization done in {time() - t0:.3f} s\")\n",
    "print(f\"n_samples: {X_test2.shape[0]}, n_features: {X_test2.shape[1]}\")"
   ]
  },
  {
   "cell_type": "code",
   "execution_count": 21,
   "id": "3dcd4184",
   "metadata": {
    "execution": {
     "iopub.execute_input": "2023-02-04T11:58:16.107158Z",
     "iopub.status.busy": "2023-02-04T11:58:16.106655Z",
     "iopub.status.idle": "2023-02-04T11:58:26.134720Z",
     "shell.execute_reply": "2023-02-04T11:58:26.133373Z"
    },
    "papermill": {
     "duration": 10.047142,
     "end_time": "2023-02-04T11:58:26.138061",
     "exception": false,
     "start_time": "2023-02-04T11:58:16.090919",
     "status": "completed"
    },
    "tags": []
   },
   "outputs": [
    {
     "data": {
      "text/plain": [
       "array([0, 0, 0, ..., 0, 0, 0], dtype=int32)"
      ]
     },
     "execution_count": 21,
     "metadata": {},
     "output_type": "execute_result"
    }
   ],
   "source": [
    "identified_clusters2 = kmeans.fit_predict(X_test2)\n",
    "identified_clusters2"
   ]
  },
  {
   "cell_type": "code",
   "execution_count": 22,
   "id": "fa225343",
   "metadata": {
    "execution": {
     "iopub.execute_input": "2023-02-04T11:58:26.168162Z",
     "iopub.status.busy": "2023-02-04T11:58:26.167632Z",
     "iopub.status.idle": "2023-02-04T11:58:26.465579Z",
     "shell.execute_reply": "2023-02-04T11:58:26.464075Z"
    },
    "papermill": {
     "duration": 0.316851,
     "end_time": "2023-02-04T11:58:26.468590",
     "exception": false,
     "start_time": "2023-02-04T11:58:26.151739",
     "status": "completed"
    },
    "tags": []
   },
   "outputs": [
    {
     "data": {
      "text/html": [
       "<div>\n",
       "<style scoped>\n",
       "    .dataframe tbody tr th:only-of-type {\n",
       "        vertical-align: middle;\n",
       "    }\n",
       "\n",
       "    .dataframe tbody tr th {\n",
       "        vertical-align: top;\n",
       "    }\n",
       "\n",
       "    .dataframe thead th {\n",
       "        text-align: right;\n",
       "    }\n",
       "</style>\n",
       "<table border=\"1\" class=\"dataframe\">\n",
       "  <thead>\n",
       "    <tr style=\"text-align: right;\">\n",
       "      <th></th>\n",
       "      <th>id</th>\n",
       "      <th>target</th>\n",
       "    </tr>\n",
       "  </thead>\n",
       "  <tbody>\n",
       "    <tr>\n",
       "      <th>0</th>\n",
       "      <td>1136227</td>\n",
       "      <td>0</td>\n",
       "    </tr>\n",
       "    <tr>\n",
       "      <th>1</th>\n",
       "      <td>738556</td>\n",
       "      <td>0</td>\n",
       "    </tr>\n",
       "    <tr>\n",
       "      <th>2</th>\n",
       "      <td>1289784</td>\n",
       "      <td>0</td>\n",
       "    </tr>\n",
       "    <tr>\n",
       "      <th>3</th>\n",
       "      <td>1419520</td>\n",
       "      <td>0</td>\n",
       "    </tr>\n",
       "    <tr>\n",
       "      <th>4</th>\n",
       "      <td>1178091</td>\n",
       "      <td>0</td>\n",
       "    </tr>\n",
       "  </tbody>\n",
       "</table>\n",
       "</div>"
      ],
      "text/plain": [
       "        id  target\n",
       "0  1136227       0\n",
       "1   738556       0\n",
       "2  1289784       0\n",
       "3  1419520       0\n",
       "4  1178091       0"
      ]
     },
     "execution_count": 22,
     "metadata": {},
     "output_type": "execute_result"
    }
   ],
   "source": [
    "submission = pd.DataFrame(data = {'id': test_data.id, 'target': identified_clusters2})\n",
    "submission.to_csv('TFIDFidentified_clusters2(withreval& 0.8 *8 df).csv', index = False)\n",
    "submission.head()"
   ]
  },
  {
   "cell_type": "markdown",
   "id": "f6689a05",
   "metadata": {
    "papermill": {
     "duration": 0.014152,
     "end_time": "2023-02-04T11:58:26.496897",
     "exception": false,
     "start_time": "2023-02-04T11:58:26.482745",
     "status": "completed"
    },
    "tags": []
   },
   "source": [
    "Test MiniBatch"
   ]
  },
  {
   "cell_type": "code",
   "execution_count": 23,
   "id": "43c233a9",
   "metadata": {
    "execution": {
     "iopub.execute_input": "2023-02-04T11:58:26.527396Z",
     "iopub.status.busy": "2023-02-04T11:58:26.526177Z",
     "iopub.status.idle": "2023-02-04T11:58:42.102441Z",
     "shell.execute_reply": "2023-02-04T11:58:42.101255Z"
    },
    "papermill": {
     "duration": 15.595098,
     "end_time": "2023-02-04T11:58:42.105976",
     "exception": false,
     "start_time": "2023-02-04T11:58:26.510878",
     "status": "completed"
    },
    "tags": []
   },
   "outputs": [],
   "source": [
    "pred2=MiniBatchkmeans.fit_predict(X_test2)"
   ]
  },
  {
   "cell_type": "code",
   "execution_count": 24,
   "id": "4afbc328",
   "metadata": {
    "execution": {
     "iopub.execute_input": "2023-02-04T11:58:42.138856Z",
     "iopub.status.busy": "2023-02-04T11:58:42.138267Z",
     "iopub.status.idle": "2023-02-04T11:58:42.438283Z",
     "shell.execute_reply": "2023-02-04T11:58:42.436931Z"
    },
    "papermill": {
     "duration": 0.319223,
     "end_time": "2023-02-04T11:58:42.441125",
     "exception": false,
     "start_time": "2023-02-04T11:58:42.121902",
     "status": "completed"
    },
    "tags": []
   },
   "outputs": [
    {
     "data": {
      "text/html": [
       "<div>\n",
       "<style scoped>\n",
       "    .dataframe tbody tr th:only-of-type {\n",
       "        vertical-align: middle;\n",
       "    }\n",
       "\n",
       "    .dataframe tbody tr th {\n",
       "        vertical-align: top;\n",
       "    }\n",
       "\n",
       "    .dataframe thead th {\n",
       "        text-align: right;\n",
       "    }\n",
       "</style>\n",
       "<table border=\"1\" class=\"dataframe\">\n",
       "  <thead>\n",
       "    <tr style=\"text-align: right;\">\n",
       "      <th></th>\n",
       "      <th>id</th>\n",
       "      <th>target</th>\n",
       "    </tr>\n",
       "  </thead>\n",
       "  <tbody>\n",
       "    <tr>\n",
       "      <th>0</th>\n",
       "      <td>1136227</td>\n",
       "      <td>0</td>\n",
       "    </tr>\n",
       "    <tr>\n",
       "      <th>1</th>\n",
       "      <td>738556</td>\n",
       "      <td>0</td>\n",
       "    </tr>\n",
       "    <tr>\n",
       "      <th>2</th>\n",
       "      <td>1289784</td>\n",
       "      <td>0</td>\n",
       "    </tr>\n",
       "    <tr>\n",
       "      <th>3</th>\n",
       "      <td>1419520</td>\n",
       "      <td>0</td>\n",
       "    </tr>\n",
       "    <tr>\n",
       "      <th>4</th>\n",
       "      <td>1178091</td>\n",
       "      <td>0</td>\n",
       "    </tr>\n",
       "  </tbody>\n",
       "</table>\n",
       "</div>"
      ],
      "text/plain": [
       "        id  target\n",
       "0  1136227       0\n",
       "1   738556       0\n",
       "2  1289784       0\n",
       "3  1419520       0\n",
       "4  1178091       0"
      ]
     },
     "execution_count": 24,
     "metadata": {},
     "output_type": "execute_result"
    }
   ],
   "source": [
    "submission = pd.DataFrame(data = {'id': test_data.id, 'target': pred2})\n",
    "submission.to_csv('TFIDFsubmission_MiniBatch.csv', index = False)\n",
    "submission.head()"
   ]
  },
  {
   "cell_type": "markdown",
   "id": "4800dab0",
   "metadata": {
    "execution": {
     "iopub.execute_input": "2023-02-01T10:51:37.375560Z",
     "iopub.status.busy": "2023-02-01T10:51:37.374691Z",
     "iopub.status.idle": "2023-02-01T10:51:58.268558Z",
     "shell.execute_reply": "2023-02-01T10:51:58.267121Z",
     "shell.execute_reply.started": "2023-02-01T10:51:37.375517Z"
    },
    "papermill": {
     "duration": 0.014705,
     "end_time": "2023-02-04T11:58:42.471503",
     "exception": false,
     "start_time": "2023-02-04T11:58:42.456798",
     "status": "completed"
    },
    "tags": []
   },
   "source": [
    "from sklearn.cluster import KMeans\n",
    "\n",
    "for seed in range(5):\n",
    "    kmeans = KMeans(\n",
    "        n_clusters=2,\n",
    "        max_iter=100,\n",
    "        n_init=1,\n",
    "        random_state=seed,\n",
    "    ).fit(X_tfidf)\n",
    "    cluster_ids, cluster_sizes = np.unique(kmeans.labels_, return_counts=True)\n",
    "   # print(f\"Number of elements asigned to each cluster: {cluster_sizes}\")\n",
    "print()\n",
    "#print(\n",
    "  #  \"True number of documents in each category according to the class labels: \"\n",
    " #   f\"{category_sizes}\"\n",
    "#)"
   ]
  },
  {
   "cell_type": "markdown",
   "id": "d6b1b653",
   "metadata": {
    "execution": {
     "iopub.status.busy": "2023-02-02T10:33:28.466492Z",
     "iopub.status.idle": "2023-02-02T10:33:28.467270Z",
     "shell.execute_reply": "2023-02-02T10:33:28.467047Z",
     "shell.execute_reply.started": "2023-02-02T10:33:28.467027Z"
    },
    "papermill": {
     "duration": 0.014746,
     "end_time": "2023-02-04T11:58:42.501234",
     "exception": false,
     "start_time": "2023-02-04T11:58:42.486488",
     "status": "completed"
    },
    "tags": []
   },
   "source": [
    "kmeans = KMeans(\n",
    "    n_clusters=2,\n",
    "    max_iter=100,\n",
    "    n_init=5,\n",
    ")\n",
    "\n",
    "fit_and_evaluate(kmeans, X_tfidf, name=\"KMeans\\non tf-idf vectors\")"
   ]
  },
  {
   "cell_type": "markdown",
   "id": "70c061cb",
   "metadata": {
    "execution": {
     "iopub.status.busy": "2023-02-02T10:33:28.468553Z",
     "iopub.status.idle": "2023-02-02T10:33:28.469289Z",
     "shell.execute_reply": "2023-02-02T10:33:28.469070Z",
     "shell.execute_reply.started": "2023-02-02T10:33:28.469050Z"
    },
    "papermill": {
     "duration": 0.015254,
     "end_time": "2023-02-04T11:58:42.531673",
     "exception": false,
     "start_time": "2023-02-04T11:58:42.516419",
     "status": "completed"
    },
    "tags": []
   },
   "source": [
    "X_tfidf_test = vectorizer.fit_transform(test_data['text'])\n",
    "\n",
    "print(f\"vectorization done in {time() - t0:.3f} s\")\n",
    "print(f\"n_samples: {X_tfidf_test.shape[0]}, n_features: {X_tfidf_test.shape[1]}\")"
   ]
  },
  {
   "cell_type": "markdown",
   "id": "04491717",
   "metadata": {
    "papermill": {
     "duration": 0.01485,
     "end_time": "2023-02-04T11:58:42.562828",
     "exception": false,
     "start_time": "2023-02-04T11:58:42.547978",
     "status": "completed"
    },
    "tags": []
   },
   "source": [
    "# Performing dimensionality reduction using SVD****"
   ]
  },
  {
   "cell_type": "code",
   "execution_count": 25,
   "id": "20ff46dd",
   "metadata": {
    "execution": {
     "iopub.execute_input": "2023-02-04T11:58:42.598125Z",
     "iopub.status.busy": "2023-02-04T11:58:42.597629Z",
     "iopub.status.idle": "2023-02-04T12:13:03.700872Z",
     "shell.execute_reply": "2023-02-04T12:13:03.699538Z"
    },
    "papermill": {
     "duration": 861.140058,
     "end_time": "2023-02-04T12:13:03.718972",
     "exception": false,
     "start_time": "2023-02-04T11:58:42.578914",
     "status": "completed"
    },
    "tags": []
   },
   "outputs": [
    {
     "name": "stdout",
     "output_type": "stream",
     "text": [
      "LSA done in 861.090 s\n",
      "Explained variance of the SVD step: 51.9%\n"
     ]
    }
   ],
   "source": [
    "from sklearn.decomposition import TruncatedSVD\n",
    "from sklearn.pipeline import make_pipeline\n",
    "from sklearn.preprocessing import Normalizer\n",
    "\n",
    "\n",
    "lsa = make_pipeline(TruncatedSVD(n_components=1000), Normalizer(copy=False))\n",
    "t0 = time()\n",
    "X_lsa = lsa.fit_transform(X_tfidf)\n",
    "explained_variance = lsa[0].explained_variance_ratio_.sum()\n",
    "\n",
    "print(f\"LSA done in {time() - t0:.3f} s\")\n",
    "print(f\"Explained variance of the SVD step: {explained_variance * 100:.1f}%\")"
   ]
  },
  {
   "cell_type": "code",
   "execution_count": 26,
   "id": "4053e28a",
   "metadata": {
    "execution": {
     "iopub.execute_input": "2023-02-04T12:13:03.750585Z",
     "iopub.status.busy": "2023-02-04T12:13:03.749625Z",
     "iopub.status.idle": "2023-02-04T12:17:47.487324Z",
     "shell.execute_reply": "2023-02-04T12:17:47.485789Z"
    },
    "papermill": {
     "duration": 283.770402,
     "end_time": "2023-02-04T12:17:47.504334",
     "exception": false,
     "start_time": "2023-02-04T12:13:03.733932",
     "status": "completed"
    },
    "tags": []
   },
   "outputs": [
    {
     "data": {
      "text/plain": [
       "array([0, 0, 0, ..., 0, 0, 0], dtype=int32)"
      ]
     },
     "execution_count": 26,
     "metadata": {},
     "output_type": "execute_result"
    }
   ],
   "source": [
    "kmeans = KMeans(n_clusters=2, random_state=0, )#n_init=\"auto\")#.fit(X_train)\n",
    "kmeans.fit(X_lsa)#  y_train)#data)\n",
    "kmeans.labels_"
   ]
  },
  {
   "cell_type": "code",
   "execution_count": 27,
   "id": "23967d4b",
   "metadata": {
    "execution": {
     "iopub.execute_input": "2023-02-04T12:17:47.535286Z",
     "iopub.status.busy": "2023-02-04T12:17:47.534824Z",
     "iopub.status.idle": "2023-02-04T12:21:54.963944Z",
     "shell.execute_reply": "2023-02-04T12:21:54.962245Z"
    },
    "papermill": {
     "duration": 247.463008,
     "end_time": "2023-02-04T12:21:54.981627",
     "exception": false,
     "start_time": "2023-02-04T12:17:47.518619",
     "status": "completed"
    },
    "tags": []
   },
   "outputs": [
    {
     "name": "stdout",
     "output_type": "stream",
     "text": [
      "LSA done in 1392.353 s\n",
      "Explained variance of the SVD step: 57.8%\n"
     ]
    }
   ],
   "source": [
    "#lsa = make_pipeline(TruncatedSVD(n_components=1000), Normalizer(copy=False))\n",
    "#t0 = time()\n",
    "X_lsa2 = lsa.fit_transform(X_test)\n",
    "explained_variance = lsa[0].explained_variance_ratio_.sum()\n",
    "\n",
    "print(f\"LSA done in {time() - t0:.3f} s\")\n",
    "print(f\"Explained variance of the SVD step: {explained_variance * 100:.1f}%\")"
   ]
  },
  {
   "cell_type": "code",
   "execution_count": 28,
   "id": "6af23b99",
   "metadata": {
    "execution": {
     "iopub.execute_input": "2023-02-04T12:21:55.014799Z",
     "iopub.status.busy": "2023-02-04T12:21:55.014270Z",
     "iopub.status.idle": "2023-02-04T12:22:55.118973Z",
     "shell.execute_reply": "2023-02-04T12:22:55.117521Z"
    },
    "papermill": {
     "duration": 60.139987,
     "end_time": "2023-02-04T12:22:55.136959",
     "exception": false,
     "start_time": "2023-02-04T12:21:54.996972",
     "status": "completed"
    },
    "tags": []
   },
   "outputs": [
    {
     "data": {
      "text/plain": [
       "array([1, 1, 1, ..., 1, 1, 0], dtype=int32)"
      ]
     },
     "execution_count": 28,
     "metadata": {},
     "output_type": "execute_result"
    }
   ],
   "source": [
    "identified_clusters3 = kmeans.fit_predict(X_lsa2)\n",
    "identified_clusters3"
   ]
  },
  {
   "cell_type": "code",
   "execution_count": 29,
   "id": "c922e2be",
   "metadata": {
    "execution": {
     "iopub.execute_input": "2023-02-04T12:22:55.172577Z",
     "iopub.status.busy": "2023-02-04T12:22:55.171072Z",
     "iopub.status.idle": "2023-02-04T12:22:55.631120Z",
     "shell.execute_reply": "2023-02-04T12:22:55.629663Z"
    },
    "papermill": {
     "duration": 0.48085,
     "end_time": "2023-02-04T12:22:55.634248",
     "exception": false,
     "start_time": "2023-02-04T12:22:55.153398",
     "status": "completed"
    },
    "tags": []
   },
   "outputs": [
    {
     "name": "stdout",
     "output_type": "stream",
     "text": [
      "ConfusionMatrix [[11917 90271]\n",
      " [15275 87337]]\n",
      "              precision    recall  f1-score   support\n",
      "\n",
      "           0       0.44      0.12      0.18    102188\n",
      "           1       0.49      0.85      0.62    102612\n",
      "\n",
      "    accuracy                           0.48    204800\n",
      "   macro avg       0.46      0.48      0.40    204800\n",
      "weighted avg       0.47      0.48      0.40    204800\n",
      "\n"
     ]
    }
   ],
   "source": [
    "from sklearn.metrics import confusion_matrix,classification_report\n",
    "print(\"ConfusionMatrix\",confusion_matrix(y_test,identified_clusters3))\n",
    "print(classification_report(y_test,identified_clusters3))"
   ]
  },
  {
   "cell_type": "code",
   "execution_count": 30,
   "id": "9f0e96fe",
   "metadata": {
    "execution": {
     "iopub.execute_input": "2023-02-04T12:22:55.666791Z",
     "iopub.status.busy": "2023-02-04T12:22:55.666273Z",
     "iopub.status.idle": "2023-02-04T12:23:03.588499Z",
     "shell.execute_reply": "2023-02-04T12:23:03.587391Z"
    },
    "papermill": {
     "duration": 7.942523,
     "end_time": "2023-02-04T12:23:03.591941",
     "exception": false,
     "start_time": "2023-02-04T12:22:55.649418",
     "status": "completed"
    },
    "tags": []
   },
   "outputs": [],
   "source": [
    "pred5=MiniBatchkmeans.fit_predict(X_lsa2)"
   ]
  },
  {
   "cell_type": "code",
   "execution_count": 31,
   "id": "fc776667",
   "metadata": {
    "execution": {
     "iopub.execute_input": "2023-02-04T12:23:03.627631Z",
     "iopub.status.busy": "2023-02-04T12:23:03.626978Z",
     "iopub.status.idle": "2023-02-04T12:23:04.100809Z",
     "shell.execute_reply": "2023-02-04T12:23:04.099215Z"
    },
    "papermill": {
     "duration": 0.494564,
     "end_time": "2023-02-04T12:23:04.103431",
     "exception": false,
     "start_time": "2023-02-04T12:23:03.608867",
     "status": "completed"
    },
    "tags": []
   },
   "outputs": [
    {
     "name": "stdout",
     "output_type": "stream",
     "text": [
      "ConfusionMatrix [[ 8033 94155]\n",
      " [ 7684 94928]]\n",
      "              precision    recall  f1-score   support\n",
      "\n",
      "           0       0.51      0.08      0.14    102188\n",
      "           1       0.50      0.93      0.65    102612\n",
      "\n",
      "    accuracy                           0.50    204800\n",
      "   macro avg       0.51      0.50      0.39    204800\n",
      "weighted avg       0.51      0.50      0.39    204800\n",
      "\n"
     ]
    }
   ],
   "source": [
    "from sklearn.metrics import confusion_matrix,classification_report\n",
    "print(\"ConfusionMatrix\",confusion_matrix(y_test,pred5))\n",
    "print(classification_report(y_test,pred5))"
   ]
  },
  {
   "cell_type": "markdown",
   "id": "f6c6f991",
   "metadata": {
    "execution": {
     "iopub.status.busy": "2023-02-01T10:49:25.224591Z",
     "iopub.status.idle": "2023-02-01T10:49:25.225051Z",
     "shell.execute_reply": "2023-02-01T10:49:25.224835Z",
     "shell.execute_reply.started": "2023-02-01T10:49:25.224815Z"
    },
    "papermill": {
     "duration": 0.014276,
     "end_time": "2023-02-04T12:23:04.132746",
     "exception": false,
     "start_time": "2023-02-04T12:23:04.118470",
     "status": "completed"
    },
    "tags": []
   },
   "source": [
    "kmeans = KMeans(\n",
    "    n_clusters=2,\n",
    "    max_iter=100,\n",
    "    n_init=1,\n",
    ")\n",
    "\n",
    "fit_and_evaluate(kmeans, X_lsa, name=\"KMeans\\nwith LSA on tf-idf vectors\")"
   ]
  },
  {
   "cell_type": "code",
   "execution_count": 32,
   "id": "f518708f",
   "metadata": {
    "execution": {
     "iopub.execute_input": "2023-02-04T12:23:04.165949Z",
     "iopub.status.busy": "2023-02-04T12:23:04.165171Z",
     "iopub.status.idle": "2023-02-04T12:27:27.279342Z",
     "shell.execute_reply": "2023-02-04T12:27:27.277887Z"
    },
    "papermill": {
     "duration": 263.149817,
     "end_time": "2023-02-04T12:27:27.297423",
     "exception": false,
     "start_time": "2023-02-04T12:23:04.147606",
     "status": "completed"
    },
    "tags": []
   },
   "outputs": [
    {
     "name": "stdout",
     "output_type": "stream",
     "text": [
      "LSA done in 1724.669 s\n",
      "Explained variance of the SVD step: 56.7%\n"
     ]
    }
   ],
   "source": [
    "#lsa = make_pipeline(TruncatedSVD(n_components=100), Normalizer(copy=False))\n",
    "#t0 = time()\n",
    "X_lsa3 = lsa.fit_transform(X_test2)\n",
    "explained_variance = lsa[0].explained_variance_ratio_.sum()\n",
    "\n",
    "print(f\"LSA done in {time() - t0:.3f} s\")\n",
    "print(f\"Explained variance of the SVD step: {explained_variance * 100:.1f}%\")"
   ]
  },
  {
   "cell_type": "code",
   "execution_count": 33,
   "id": "7d9fd6aa",
   "metadata": {
    "execution": {
     "iopub.execute_input": "2023-02-04T12:27:27.329500Z",
     "iopub.status.busy": "2023-02-04T12:27:27.329001Z",
     "iopub.status.idle": "2023-02-04T12:28:49.477643Z",
     "shell.execute_reply": "2023-02-04T12:28:49.476385Z"
    },
    "papermill": {
     "duration": 82.182641,
     "end_time": "2023-02-04T12:28:49.495029",
     "exception": false,
     "start_time": "2023-02-04T12:27:27.312388",
     "status": "completed"
    },
    "tags": []
   },
   "outputs": [
    {
     "data": {
      "text/plain": [
       "array([1, 1, 1, ..., 1, 1, 1], dtype=int32)"
      ]
     },
     "execution_count": 33,
     "metadata": {},
     "output_type": "execute_result"
    }
   ],
   "source": [
    "identified_clusters4 = kmeans.fit_predict(X_lsa3)\n",
    "identified_clusters4"
   ]
  },
  {
   "cell_type": "code",
   "execution_count": 34,
   "id": "b53eefa3",
   "metadata": {
    "execution": {
     "iopub.execute_input": "2023-02-04T12:28:49.528248Z",
     "iopub.status.busy": "2023-02-04T12:28:49.527422Z",
     "iopub.status.idle": "2023-02-04T12:28:49.816043Z",
     "shell.execute_reply": "2023-02-04T12:28:49.814835Z"
    },
    "papermill": {
     "duration": 0.308761,
     "end_time": "2023-02-04T12:28:49.818858",
     "exception": false,
     "start_time": "2023-02-04T12:28:49.510097",
     "status": "completed"
    },
    "tags": []
   },
   "outputs": [
    {
     "data": {
      "text/html": [
       "<div>\n",
       "<style scoped>\n",
       "    .dataframe tbody tr th:only-of-type {\n",
       "        vertical-align: middle;\n",
       "    }\n",
       "\n",
       "    .dataframe tbody tr th {\n",
       "        vertical-align: top;\n",
       "    }\n",
       "\n",
       "    .dataframe thead th {\n",
       "        text-align: right;\n",
       "    }\n",
       "</style>\n",
       "<table border=\"1\" class=\"dataframe\">\n",
       "  <thead>\n",
       "    <tr style=\"text-align: right;\">\n",
       "      <th></th>\n",
       "      <th>id</th>\n",
       "      <th>target</th>\n",
       "    </tr>\n",
       "  </thead>\n",
       "  <tbody>\n",
       "    <tr>\n",
       "      <th>0</th>\n",
       "      <td>1136227</td>\n",
       "      <td>1</td>\n",
       "    </tr>\n",
       "    <tr>\n",
       "      <th>1</th>\n",
       "      <td>738556</td>\n",
       "      <td>1</td>\n",
       "    </tr>\n",
       "    <tr>\n",
       "      <th>2</th>\n",
       "      <td>1289784</td>\n",
       "      <td>1</td>\n",
       "    </tr>\n",
       "    <tr>\n",
       "      <th>3</th>\n",
       "      <td>1419520</td>\n",
       "      <td>1</td>\n",
       "    </tr>\n",
       "    <tr>\n",
       "      <th>4</th>\n",
       "      <td>1178091</td>\n",
       "      <td>1</td>\n",
       "    </tr>\n",
       "  </tbody>\n",
       "</table>\n",
       "</div>"
      ],
      "text/plain": [
       "        id  target\n",
       "0  1136227       1\n",
       "1   738556       1\n",
       "2  1289784       1\n",
       "3  1419520       1\n",
       "4  1178091       1"
      ]
     },
     "execution_count": 34,
     "metadata": {},
     "output_type": "execute_result"
    }
   ],
   "source": [
    "submission = pd.DataFrame(data = {'id': test_data.id, 'target': identified_clusters4})\n",
    "submission.to_csv('TFIDFidentified_clusters2&LSA.csv', index = False)\n",
    "submission.head()"
   ]
  },
  {
   "cell_type": "code",
   "execution_count": 35,
   "id": "84056f02",
   "metadata": {
    "execution": {
     "iopub.execute_input": "2023-02-04T12:28:49.853784Z",
     "iopub.status.busy": "2023-02-04T12:28:49.852475Z",
     "iopub.status.idle": "2023-02-04T12:28:57.777980Z",
     "shell.execute_reply": "2023-02-04T12:28:57.776916Z"
    },
    "papermill": {
     "duration": 7.946677,
     "end_time": "2023-02-04T12:28:57.781448",
     "exception": false,
     "start_time": "2023-02-04T12:28:49.834771",
     "status": "completed"
    },
    "tags": []
   },
   "outputs": [],
   "source": [
    "pred4=MiniBatchkmeans.fit_predict(X_lsa3)"
   ]
  },
  {
   "cell_type": "code",
   "execution_count": 36,
   "id": "64ebee61",
   "metadata": {
    "execution": {
     "iopub.execute_input": "2023-02-04T12:28:57.816973Z",
     "iopub.status.busy": "2023-02-04T12:28:57.816494Z",
     "iopub.status.idle": "2023-02-04T12:28:58.101651Z",
     "shell.execute_reply": "2023-02-04T12:28:58.100359Z"
    },
    "papermill": {
     "duration": 0.305341,
     "end_time": "2023-02-04T12:28:58.104855",
     "exception": false,
     "start_time": "2023-02-04T12:28:57.799514",
     "status": "completed"
    },
    "tags": []
   },
   "outputs": [
    {
     "data": {
      "text/html": [
       "<div>\n",
       "<style scoped>\n",
       "    .dataframe tbody tr th:only-of-type {\n",
       "        vertical-align: middle;\n",
       "    }\n",
       "\n",
       "    .dataframe tbody tr th {\n",
       "        vertical-align: top;\n",
       "    }\n",
       "\n",
       "    .dataframe thead th {\n",
       "        text-align: right;\n",
       "    }\n",
       "</style>\n",
       "<table border=\"1\" class=\"dataframe\">\n",
       "  <thead>\n",
       "    <tr style=\"text-align: right;\">\n",
       "      <th></th>\n",
       "      <th>id</th>\n",
       "      <th>target</th>\n",
       "    </tr>\n",
       "  </thead>\n",
       "  <tbody>\n",
       "    <tr>\n",
       "      <th>0</th>\n",
       "      <td>1136227</td>\n",
       "      <td>1</td>\n",
       "    </tr>\n",
       "    <tr>\n",
       "      <th>1</th>\n",
       "      <td>738556</td>\n",
       "      <td>1</td>\n",
       "    </tr>\n",
       "    <tr>\n",
       "      <th>2</th>\n",
       "      <td>1289784</td>\n",
       "      <td>1</td>\n",
       "    </tr>\n",
       "    <tr>\n",
       "      <th>3</th>\n",
       "      <td>1419520</td>\n",
       "      <td>1</td>\n",
       "    </tr>\n",
       "    <tr>\n",
       "      <th>4</th>\n",
       "      <td>1178091</td>\n",
       "      <td>1</td>\n",
       "    </tr>\n",
       "  </tbody>\n",
       "</table>\n",
       "</div>"
      ],
      "text/plain": [
       "        id  target\n",
       "0  1136227       1\n",
       "1   738556       1\n",
       "2  1289784       1\n",
       "3  1419520       1\n",
       "4  1178091       1"
      ]
     },
     "execution_count": 36,
     "metadata": {},
     "output_type": "execute_result"
    }
   ],
   "source": [
    "submission = pd.DataFrame(data = {'id': test_data.id, 'target': pred4})\n",
    "submission.to_csv('TFIDFsubmission_MiniBatch2&LSA.csv', index = False)\n",
    "submission.head()"
   ]
  }
 ],
 "metadata": {
  "kernelspec": {
   "display_name": "Python 3",
   "language": "python",
   "name": "python3"
  },
  "language_info": {
   "codemirror_mode": {
    "name": "ipython",
    "version": 3
   },
   "file_extension": ".py",
   "mimetype": "text/x-python",
   "name": "python",
   "nbconvert_exporter": "python",
   "pygments_lexer": "ipython3",
   "version": "3.7.12"
  },
  "papermill": {
   "default_parameters": {},
   "duration": 2017.601196,
   "end_time": "2023-02-04T12:29:00.256903",
   "environment_variables": {},
   "exception": null,
   "input_path": "__notebook__.ipynb",
   "output_path": "__notebook__.ipynb",
   "parameters": {},
   "start_time": "2023-02-04T11:55:22.655707",
   "version": "2.3.4"
  }
 },
 "nbformat": 4,
 "nbformat_minor": 5
}
